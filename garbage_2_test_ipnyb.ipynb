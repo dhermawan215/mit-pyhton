{
  "cells": [
    {
      "cell_type": "markdown",
      "metadata": {
        "id": "view-in-github",
        "colab_type": "text"
      },
      "source": [
        "<a href=\"https://colab.research.google.com/github/dhermawan215/mit-pyhton/blob/main/garbage_2_test_ipnyb.ipynb\" target=\"_parent\"><img src=\"https://colab.research.google.com/assets/colab-badge.svg\" alt=\"Open In Colab\"/></a>"
      ]
    },
    {
      "cell_type": "markdown",
      "id": "ivUXM07C2lfE",
      "metadata": {
        "id": "ivUXM07C2lfE"
      },
      "source": [
        "**Step 1** : load the libraries using the import libraries"
      ]
    },
    {
      "cell_type": "markdown",
      "id": "hr6tEp_X-IKJ",
      "metadata": {
        "id": "hr6tEp_X-IKJ"
      },
      "source": [
        "1. ``import tensorflow as tf`` - - Tensorflow is imported as *tf*. It automates data collection, tracks models, monitors performance, and retains models using best practices. It is a multiple-machine learning library that is open-sourced and can be used end-to-end.\n",
        "\n",
        "2. ``from tensorflow import keras`` - It is a high-level neural library that runs on TensorFlow. Similar to TensorFlow, Keras provides APIs to build and train models. It has a Python built-in that makes it more user-friendly.\n",
        "\n",
        "3. ``from tensorflow.keras.models import Sequential`` - The input_shape argument is used to help define the layers that will be in the network as the function executes and creates each layer.  \n",
        "\n",
        "4. ``from tensorflow.keras.layers import Dense, Conv2D, Flatten, Dropout, MaxPooling2D`` - A ``dense`` layer is used when any features can be associated with any other featuree in a data point. If nearby associations among features are important, such as when detecting objects, these ``conv`` layer are important. for classfying or detecting,neighboorhoods matter. Pixels at the opposite corners can be helpful. A ``flatten`` layer is used when you need to linearize a multidimensional output to pass it into a dense layer. ``Dropouts`` reduce too mmuch association between features by dropping weights.\n",
        "\n",
        "\n",
        "5. ``from tensorflow.keras.preprocessing.image import ImageDataGenerator`` - In image augmentation, different transformmmation are applied to original images to create mmultiple tranformed copies. Using the Keras ``ImageDataGenerator``class, yit can easily enhance the immages using a variety of techniques such as rotation, standardization, shifts, brightness, flips, and more.\n",
        "\n",
        "6. ``from PIL import Image`` - with PIL. you can open, manipulate, and save a wide range of image file formmmats using the Python programmming language. It is a free, open-source library that supports many different image formats.\n",
        "\n",
        "7. ``from pathlib import Path`` - Path is one of the most important classes provided by the pathlib module. It represents a path to a directory or file on our computer's file system.\n",
        "\n",
        "8. ``import os`` - It allows to create and remove directories, fetch contenst, change the current directory, and more. Importing OS module is the first step in interacting with the underlying operating system.\n",
        "\n",
        "9. ``import numpy as np`` - NumPy is imported as *np*. It is a general-purpose package for handling arrays. It is the core package for using Python in scientific computing. `` -\n",
        "\n",
        "10. ``import matplotlib.pyplot as plt`` - Pyplot is imported as *plt*. The Matplotlib library provides graphical plotting capabilities and data visualization in Pythion and NumPy, Their numerical extension.\n",
        "\n",
        "10. ``from torchvision.datasets import ImageFolder`` - Deep learning model uses ImageFolder class to load images from our train and val folders into a PyThorch dataset.\n",
        "\n",
        "10. ``import torchvision.transforms as T`` - it allows to change brightness, contrast, saturation, and hu of an image randomly. Also, cropping the image with four corners and acentral crop. lastly, converting the image to grayscale.\n",
        "\n",
        "5. ``print (\"Done with declaration. Current version of Tenserflow :\", tf.__version__)`` - It allows to print <b>*Done with the library declaration. Current version of Tenserflow is 2.8.2* </b>"
      ]
    },
    {
      "cell_type": "code",
      "execution_count": 41,
      "id": "1258038f",
      "metadata": {
        "id": "1258038f",
        "outputId": "cc246025-96f7-4011-b8bd-22934ab6893b",
        "colab": {
          "base_uri": "https://localhost:8080/"
        }
      },
      "outputs": [
        {
          "output_type": "stream",
          "name": "stdout",
          "text": [
            "Done with library declaration, Current version of Tensorflow is:  2.18.0\n"
          ]
        }
      ],
      "source": [
        "import tensorflow as tf\n",
        "from tensorflow import keras\n",
        "from tensorflow.keras.models import Sequential\n",
        "from tensorflow.keras.layers import Dense, Conv2D, Flatten, Dropout, MaxPooling2D\n",
        "from tensorflow.keras.preprocessing.image import ImageDataGenerator\n",
        "from PIL import Image\n",
        "from pathlib import Path\n",
        "import os\n",
        "import numpy as np\n",
        "import matplotlib.pyplot as plt\n",
        "from torchvision.datasets import ImageFolder\n",
        "import torchvision.transforms as T\n",
        "\n",
        "print(\"Done with library declaration, Current version of Tensorflow is: \", tf.__version__)"
      ]
    },
    {
      "cell_type": "code",
      "source": [
        "from google.colab import drive\n",
        "drive.mount('/content/drive')"
      ],
      "metadata": {
        "colab": {
          "base_uri": "https://localhost:8080/"
        },
        "id": "fhqdbRnqQfmt",
        "outputId": "ab71cebb-294e-4dd8-e3a3-4bfc19f51ae4"
      },
      "id": "fhqdbRnqQfmt",
      "execution_count": 42,
      "outputs": [
        {
          "output_type": "stream",
          "name": "stdout",
          "text": [
            "Drive already mounted at /content/drive; to attempt to forcibly remount, call drive.mount(\"/content/drive\", force_remount=True).\n"
          ]
        }
      ]
    },
    {
      "cell_type": "markdown",
      "id": "AyqUNyGo2xqU",
      "metadata": {
        "id": "AyqUNyGo2xqU"
      },
      "source": [
        "**Step 2** : Load and transform data."
      ]
    },
    {
      "cell_type": "markdown",
      "id": "QtLA4urmH2DL",
      "metadata": {
        "id": "QtLA4urmH2DL"
      },
      "source": [
        "1. ``data_dir = Path('Garbage')`` - Data directories identify master sources of data as as replicas of the data in a distrbuted database. In this case, the path will be ***Garbage***.\n",
        "\n",
        "2. ``transformer = T.Compose([T.Resize((32, 32)), T.ToTensor()])`` - It allows to resize the imagee to 32 x 32 pixels and the ToTensor converts preprocessed images into Neural Networks.\n",
        "\n",
        "3. ``dataset = ImageFolder(data_dir, transform = transformer)`` - Assigned the transform images to the dataset. The ImageFolder class to allows to load the images from our train and val folders into a PyThorch dataset.\n",
        "\n",
        "4. ``print(dataset.classes)`` - It allows to print the classes in the dataset. Classes: ***cardboard***, ***glass***, ***metal***, ***paper***, ***plastic***, and ***trash***."
      ]
    },
    {
      "cell_type": "code",
      "execution_count": 43,
      "id": "03b16a0a",
      "metadata": {
        "id": "03b16a0a",
        "outputId": "8fa92ee8-8b9f-4b16-fa89-79e31d43c981",
        "colab": {
          "base_uri": "https://localhost:8080/"
        }
      },
      "outputs": [
        {
          "output_type": "stream",
          "name": "stdout",
          "text": [
            "['original_images', 'processed_images']\n"
          ]
        }
      ],
      "source": [
        "# collect directory\n",
        "data_dir = '/content/drive/MyDrive/garbage2'\n",
        "\n",
        "transformer = T.Compose([T.Resize((32, 32)), T.ToTensor()])\n",
        "dataset = ImageFolder(data_dir, transform = transformer)\n",
        "\n",
        "# display class names\n",
        "print(dataset.classes)"
      ]
    },
    {
      "cell_type": "markdown",
      "id": "NGYD42WOXF42",
      "metadata": {
        "id": "NGYD42WOXF42"
      },
      "source": [
        "\n",
        "1. ``fig = plt.figure()`` - function is to create a figure object. When the figure's size needs to be tweaked and more than one axes object needs to be added to a figure, we must explicity use plt.figure().\n",
        "\n",
        "2. ``ax = fig.add_axes([0,0,1,1])`` - It allows to plot the data for the classes. The dimension is set to ***0,0,1,1*** the first two array **0,0** are the horizontal and vertical coordinate of the lower left corner. The ***1,1*** are the width and height of the subplot.\n",
        "\n",
        "3. ``counts = [393,491,400]`` - It is used to set the total counts of each class in the database. in this case we have six classes.\n",
        "\n",
        "4. ``ax.bar(dataset.classes,counts)`` - It is used for bar plot. the range of classes can be shown here in a barplot\n",
        "\n",
        "5. ``plt.title('Class Distribution')`` - It allows to set a title ***Class Distribution*** for the figure. It can be found on the upper side.\n",
        "\n",
        "6. ``plt.show()`` - is the pyplot module of the matplotlob library, this function allows all figures to be displayed. In this case, the total counts of all classes in the dataset will be displayed. It also helps to visualize more easily."
      ]
    },
    {
      "cell_type": "markdown",
      "id": "Bh5YyuyE5Lu8",
      "metadata": {
        "id": "Bh5YyuyE5Lu8"
      },
      "source": [
        "<h2> About Dataset\n",
        "\n",
        "The six classification included in the **Garbage Classification Dataset** are:\n",
        "1.   cardboard (393)\n",
        "2.   glass (491)\n",
        "3.   metal (400)\n",
        "4.   paper(584)\n",
        "5.   plastic (472)\n",
        "6.   trash(127)\n",
        "<br>\n",
        "\n",
        "The objective is to train the model to be able to predict the input images based on the provided classifications.\n",
        "\n",
        "\n",
        "\n",
        "\n",
        "\n"
      ]
    },
    {
      "cell_type": "markdown",
      "id": "zRjIuMJZ3eV9",
      "metadata": {
        "id": "zRjIuMJZ3eV9"
      },
      "source": [
        "**Step 3** : Plot and inspect the classes in the data."
      ]
    },
    {
      "cell_type": "code",
      "source": [
        "# display class distribution\n",
        "fig = plt.figure()\n",
        "ax = fig.add_axes([0,0,1,1])\n",
        "\n",
        "# Assuming dataset.classes has two elements, adjust counts to have two elements as well\n",
        "# This is just an example, update counts to reflect the actual distribution\n",
        "counts = [dataset.targets.count(i) for i in range(len(dataset.classes))]\n",
        "\n",
        "#counts = [393, 491]  # Update counts to match the number of classes in dataset.classes\n",
        "\n",
        "ax.bar(dataset.classes, counts)\n",
        "plt.title('Class Distribution')\n",
        "plt.show()"
      ],
      "metadata": {
        "colab": {
          "base_uri": "https://localhost:8080/",
          "height": 563
        },
        "id": "xeMb8l6wTv0T",
        "outputId": "dfb91fa9-0e64-4d16-9967-dc931b8a5d57"
      },
      "id": "xeMb8l6wTv0T",
      "execution_count": 44,
      "outputs": [
        {
          "output_type": "display_data",
          "data": {
            "text/plain": [
              "<Figure size 640x480 with 1 Axes>"
            ],
            "image/png": "[encoded data removed]"
          },
          "metadata": {}
        }
      ]
    },
    {
      "cell_type": "code",
      "execution_count": 5,
      "id": "598c6649",
      "metadata": {
        "id": "598c6649",
        "outputId": "4613ac75-ed24-407f-c1fc-bd6af816f2d9",
        "colab": {
          "base_uri": "https://localhost:8080/",
          "height": 885
        }
      },
      "outputs": [
        {
          "output_type": "error",
          "ename": "ValueError",
          "evalue": "shape mismatch: objects cannot be broadcast to a single shape.  Mismatch is between arg 0 with shape (2,) and arg 1 with shape (3,).",
          "traceback": [
            "\u001b[0;31m---------------------------------------------------------------------------\u001b[0m",
            "\u001b[0;31mValueError\u001b[0m                                Traceback (most recent call last)",
            "\u001b[0;32m<ipython-input-5-b18564fb8538>\u001b[0m in \u001b[0;36m<cell line: 0>\u001b[0;34m()\u001b[0m\n\u001b[1;32m      3\u001b[0m \u001b[0max\u001b[0m \u001b[0;34m=\u001b[0m \u001b[0mfig\u001b[0m\u001b[0;34m.\u001b[0m\u001b[0madd_axes\u001b[0m\u001b[0;34m(\u001b[0m\u001b[0;34m[\u001b[0m\u001b[0;36m0\u001b[0m\u001b[0;34m,\u001b[0m\u001b[0;36m0\u001b[0m\u001b[0;34m,\u001b[0m\u001b[0;36m1\u001b[0m\u001b[0;34m,\u001b[0m\u001b[0;36m1\u001b[0m\u001b[0;34m]\u001b[0m\u001b[0;34m)\u001b[0m\u001b[0;34m\u001b[0m\u001b[0;34m\u001b[0m\u001b[0m\n\u001b[1;32m      4\u001b[0m \u001b[0mcounts\u001b[0m \u001b[0;34m=\u001b[0m \u001b[0;34m[\u001b[0m\u001b[0;36m393\u001b[0m\u001b[0;34m,\u001b[0m\u001b[0;36m491\u001b[0m\u001b[0;34m,\u001b[0m\u001b[0;36m400\u001b[0m\u001b[0;34m]\u001b[0m\u001b[0;34m\u001b[0m\u001b[0;34m\u001b[0m\u001b[0m\n\u001b[0;32m----> 5\u001b[0;31m \u001b[0max\u001b[0m\u001b[0;34m.\u001b[0m\u001b[0mbar\u001b[0m\u001b[0;34m(\u001b[0m\u001b[0mdataset\u001b[0m\u001b[0;34m.\u001b[0m\u001b[0mclasses\u001b[0m\u001b[0;34m,\u001b[0m\u001b[0mcounts\u001b[0m\u001b[0;34m)\u001b[0m\u001b[0;34m\u001b[0m\u001b[0;34m\u001b[0m\u001b[0m\n\u001b[0m\u001b[1;32m      6\u001b[0m \u001b[0mplt\u001b[0m\u001b[0;34m.\u001b[0m\u001b[0mtitle\u001b[0m\u001b[0;34m(\u001b[0m\u001b[0;34m'Class Distribution'\u001b[0m\u001b[0;34m)\u001b[0m\u001b[0;34m\u001b[0m\u001b[0;34m\u001b[0m\u001b[0m\n\u001b[1;32m      7\u001b[0m \u001b[0mplt\u001b[0m\u001b[0;34m.\u001b[0m\u001b[0mshow\u001b[0m\u001b[0;34m(\u001b[0m\u001b[0;34m)\u001b[0m\u001b[0;34m\u001b[0m\u001b[0;34m\u001b[0m\u001b[0m\n",
            "\u001b[0;32m/usr/local/lib/python3.11/dist-packages/matplotlib/__init__.py\u001b[0m in \u001b[0;36minner\u001b[0;34m(ax, data, *args, **kwargs)\u001b[0m\n\u001b[1;32m   1519\u001b[0m     \u001b[0;32mdef\u001b[0m \u001b[0minner\u001b[0m\u001b[0;34m(\u001b[0m\u001b[0max\u001b[0m\u001b[0;34m,\u001b[0m \u001b[0;34m*\u001b[0m\u001b[0margs\u001b[0m\u001b[0;34m,\u001b[0m \u001b[0mdata\u001b[0m\u001b[0;34m=\u001b[0m\u001b[0;32mNone\u001b[0m\u001b[0;34m,\u001b[0m \u001b[0;34m**\u001b[0m\u001b[0mkwargs\u001b[0m\u001b[0;34m)\u001b[0m\u001b[0;34m:\u001b[0m\u001b[0;34m\u001b[0m\u001b[0;34m\u001b[0m\u001b[0m\n\u001b[1;32m   1520\u001b[0m         \u001b[0;32mif\u001b[0m \u001b[0mdata\u001b[0m \u001b[0;32mis\u001b[0m \u001b[0;32mNone\u001b[0m\u001b[0;34m:\u001b[0m\u001b[0;34m\u001b[0m\u001b[0;34m\u001b[0m\u001b[0m\n\u001b[0;32m-> 1521\u001b[0;31m             return func(\n\u001b[0m\u001b[1;32m   1522\u001b[0m                 \u001b[0max\u001b[0m\u001b[0;34m,\u001b[0m\u001b[0;34m\u001b[0m\u001b[0;34m\u001b[0m\u001b[0m\n\u001b[1;32m   1523\u001b[0m                 \u001b[0;34m*\u001b[0m\u001b[0mmap\u001b[0m\u001b[0;34m(\u001b[0m\u001b[0mcbook\u001b[0m\u001b[0;34m.\u001b[0m\u001b[0msanitize_sequence\u001b[0m\u001b[0;34m,\u001b[0m \u001b[0margs\u001b[0m\u001b[0;34m)\u001b[0m\u001b[0;34m,\u001b[0m\u001b[0;34m\u001b[0m\u001b[0;34m\u001b[0m\u001b[0m\n",
            "\u001b[0;32m/usr/local/lib/python3.11/dist-packages/matplotlib/axes/_axes.py\u001b[0m in \u001b[0;36mbar\u001b[0;34m(self, x, height, width, bottom, align, **kwargs)\u001b[0m\n\u001b[1;32m   2570\u001b[0m                 \u001b[0myerr\u001b[0m \u001b[0;34m=\u001b[0m \u001b[0mself\u001b[0m\u001b[0;34m.\u001b[0m\u001b[0m_convert_dx\u001b[0m\u001b[0;34m(\u001b[0m\u001b[0myerr\u001b[0m\u001b[0;34m,\u001b[0m \u001b[0my0\u001b[0m\u001b[0;34m,\u001b[0m \u001b[0my\u001b[0m\u001b[0;34m,\u001b[0m \u001b[0mself\u001b[0m\u001b[0;34m.\u001b[0m\u001b[0mconvert_yunits\u001b[0m\u001b[0;34m)\u001b[0m\u001b[0;34m\u001b[0m\u001b[0;34m\u001b[0m\u001b[0m\n\u001b[1;32m   2571\u001b[0m \u001b[0;34m\u001b[0m\u001b[0m\n\u001b[0;32m-> 2572\u001b[0;31m         x, height, width, y, linewidth, hatch = np.broadcast_arrays(\n\u001b[0m\u001b[1;32m   2573\u001b[0m             \u001b[0;31m# Make args iterable too.\u001b[0m\u001b[0;34m\u001b[0m\u001b[0;34m\u001b[0m\u001b[0m\n\u001b[1;32m   2574\u001b[0m             np.atleast_1d(x), height, width, y, linewidth, hatch)\n",
            "\u001b[0;32m/usr/local/lib/python3.11/dist-packages/numpy/lib/_stride_tricks_impl.py\u001b[0m in \u001b[0;36mbroadcast_arrays\u001b[0;34m(subok, *args)\u001b[0m\n\u001b[1;32m    549\u001b[0m     \u001b[0margs\u001b[0m \u001b[0;34m=\u001b[0m \u001b[0mtuple\u001b[0m\u001b[0;34m(\u001b[0m\u001b[0mnp\u001b[0m\u001b[0;34m.\u001b[0m\u001b[0marray\u001b[0m\u001b[0;34m(\u001b[0m\u001b[0m_m\u001b[0m\u001b[0;34m,\u001b[0m \u001b[0mcopy\u001b[0m\u001b[0;34m=\u001b[0m\u001b[0;32mNone\u001b[0m\u001b[0;34m,\u001b[0m \u001b[0msubok\u001b[0m\u001b[0;34m=\u001b[0m\u001b[0msubok\u001b[0m\u001b[0;34m)\u001b[0m \u001b[0;32mfor\u001b[0m \u001b[0m_m\u001b[0m \u001b[0;32min\u001b[0m \u001b[0margs\u001b[0m\u001b[0;34m)\u001b[0m\u001b[0;34m\u001b[0m\u001b[0;34m\u001b[0m\u001b[0m\n\u001b[1;32m    550\u001b[0m \u001b[0;34m\u001b[0m\u001b[0m\n\u001b[0;32m--> 551\u001b[0;31m     \u001b[0mshape\u001b[0m \u001b[0;34m=\u001b[0m \u001b[0m_broadcast_shape\u001b[0m\u001b[0;34m(\u001b[0m\u001b[0;34m*\u001b[0m\u001b[0margs\u001b[0m\u001b[0;34m)\u001b[0m\u001b[0;34m\u001b[0m\u001b[0;34m\u001b[0m\u001b[0m\n\u001b[0m\u001b[1;32m    552\u001b[0m \u001b[0;34m\u001b[0m\u001b[0m\n\u001b[1;32m    553\u001b[0m     \u001b[0;32mif\u001b[0m \u001b[0mall\u001b[0m\u001b[0;34m(\u001b[0m\u001b[0marray\u001b[0m\u001b[0;34m.\u001b[0m\u001b[0mshape\u001b[0m \u001b[0;34m==\u001b[0m \u001b[0mshape\u001b[0m \u001b[0;32mfor\u001b[0m \u001b[0marray\u001b[0m \u001b[0;32min\u001b[0m \u001b[0margs\u001b[0m\u001b[0;34m)\u001b[0m\u001b[0;34m:\u001b[0m\u001b[0;34m\u001b[0m\u001b[0;34m\u001b[0m\u001b[0m\n",
            "\u001b[0;32m/usr/local/lib/python3.11/dist-packages/numpy/lib/_stride_tricks_impl.py\u001b[0m in \u001b[0;36m_broadcast_shape\u001b[0;34m(*args)\u001b[0m\n\u001b[1;32m    429\u001b[0m     \u001b[0;31m# use the old-iterator because np.nditer does not handle size 0 arrays\u001b[0m\u001b[0;34m\u001b[0m\u001b[0;34m\u001b[0m\u001b[0m\n\u001b[1;32m    430\u001b[0m     \u001b[0;31m# consistently\u001b[0m\u001b[0;34m\u001b[0m\u001b[0;34m\u001b[0m\u001b[0m\n\u001b[0;32m--> 431\u001b[0;31m     \u001b[0mb\u001b[0m \u001b[0;34m=\u001b[0m \u001b[0mnp\u001b[0m\u001b[0;34m.\u001b[0m\u001b[0mbroadcast\u001b[0m\u001b[0;34m(\u001b[0m\u001b[0;34m*\u001b[0m\u001b[0margs\u001b[0m\u001b[0;34m[\u001b[0m\u001b[0;34m:\u001b[0m\u001b[0;36m32\u001b[0m\u001b[0;34m]\u001b[0m\u001b[0;34m)\u001b[0m\u001b[0;34m\u001b[0m\u001b[0;34m\u001b[0m\u001b[0m\n\u001b[0m\u001b[1;32m    432\u001b[0m     \u001b[0;31m# unfortunately, it cannot handle 32 or more arguments directly\u001b[0m\u001b[0;34m\u001b[0m\u001b[0;34m\u001b[0m\u001b[0m\n\u001b[1;32m    433\u001b[0m     \u001b[0;32mfor\u001b[0m \u001b[0mpos\u001b[0m \u001b[0;32min\u001b[0m \u001b[0mrange\u001b[0m\u001b[0;34m(\u001b[0m\u001b[0;36m32\u001b[0m\u001b[0;34m,\u001b[0m \u001b[0mlen\u001b[0m\u001b[0;34m(\u001b[0m\u001b[0margs\u001b[0m\u001b[0;34m)\u001b[0m\u001b[0;34m,\u001b[0m \u001b[0;36m31\u001b[0m\u001b[0;34m)\u001b[0m\u001b[0;34m:\u001b[0m\u001b[0;34m\u001b[0m\u001b[0;34m\u001b[0m\u001b[0m\n",
            "\u001b[0;31mValueError\u001b[0m: shape mismatch: objects cannot be broadcast to a single shape.  Mismatch is between arg 0 with shape (2,) and arg 1 with shape (3,)."
          ]
        },
        {
          "output_type": "display_data",
          "data": {
            "text/plain": [
              "<Figure size 640x480 with 1 Axes>"
            ],
            "image/png": "[encoded data removed]"
          },
          "metadata": {}
        }
      ],
      "source": [
        "# display class distribution\n",
        "fig = plt.figure()\n",
        "ax = fig.add_axes([0,0,1,1])\n",
        "counts = [393,491,400]\n",
        "ax.bar(dataset.classes,counts)\n",
        "plt.title('Class Distribution')\n",
        "plt.show()"
      ]
    },
    {
      "cell_type": "markdown",
      "id": "-7dGgUWzdb5k",
      "metadata": {
        "id": "-7dGgUWzdb5k"
      },
      "source": [
        "1. ``PATH_TRAIN = r\"Garbage\"`` - The train data used will come from garbage file images.\n",
        "2. ``PATH_TEST = r\"ProcessedImage\"`` - The test data used will come from processed images.\n",
        "3. ``class_names = ['cardboard', 'glass', 'metal']`` - Will set all the classes in the class_names so that every time it is called it will return specific classes in the dataset\n",
        "\n",
        "4. ``imagepath_cardboard = r\"Garbage\\cardboard\"`` - The cardboard class is assigned to imagepath_cardboard.\n",
        "5. ``graypath_cardboard = r\"ProcessedImage\\cardboard\"`` - The processed image of cardboard class is assigned to graypath_cardboard.\n",
        "\n",
        "6. ``File_listing = os.listdir(imagepath_cardboard)`` <br>\n",
        "  ``for file in File_listing:`` - The os module provides a function which lists all the files in the specified path using the names provided by the fuction. In this case the specified is ***imagepath_cardboard***. With the use ``im.resize and img.convert`` functio, the cardboard images is resize by 32 x 32 pixels and in grayscale.\n",
        "\n",
        "\n"
      ]
    },
    {
      "cell_type": "markdown",
      "id": "Rv8FE-4Z3XhV",
      "metadata": {
        "id": "Rv8FE-4Z3XhV"
      },
      "source": [
        "**Step 4** : Split and store the data into train and test data."
      ]
    },
    {
      "cell_type": "code",
      "execution_count": 45,
      "id": "90282619",
      "metadata": {
        "id": "90282619"
      },
      "outputs": [],
      "source": [
        "PATH_TRAIN = r\"/content/drive/MyDrive/garbage2/original_images\"\n",
        "PATH_TEST = r\"/content/drive/MyDrive/garbage2/processed_images\"\n",
        "class_names = ['cardboard', 'glass', 'metal','paper','plastic']\n",
        "\n",
        "imagepath_cardboard = r\"/content/drive/MyDrive/garbage2/original_images/cardboard\"\n",
        "graypath_cardboard = r\"/content/drive/MyDrive/garbage2/processed_images/cardboard\"\n",
        "File_listing = os.listdir(imagepath_cardboard)\n",
        "for file in File_listing:\n",
        "    im = Image.open(imagepath_cardboard + '/' + file)\n",
        "    img = im.resize((32,32))\n",
        "    gray = img.convert('L')\n",
        "    gray.save(graypath_cardboard + '/' + file, \"JPEG\")"
      ]
    },
    {
      "cell_type": "code",
      "execution_count": 7,
      "id": "0ea011fa",
      "metadata": {
        "id": "0ea011fa"
      },
      "outputs": [],
      "source": [
        "imagepath_glass = r\"/content/drive/MyDrive/garbage2/original_images/glass\"\n",
        "graypath_glass = r\"/content/drive/MyDrive/garbage2/processed_images/glass\"\n",
        "File_listing = os.listdir(imagepath_glass)\n",
        "for file in File_listing:\n",
        "    im = Image.open(imagepath_glass + '/' + file)\n",
        "    img = im.resize((32,32))\n",
        "    gray = img.convert('L')\n",
        "    gray.save(graypath_glass + '/' + file, \"JPEG\")"
      ]
    },
    {
      "cell_type": "code",
      "execution_count": 8,
      "id": "aaa6303a",
      "metadata": {
        "id": "aaa6303a"
      },
      "outputs": [],
      "source": [
        "imagepath_metal = r\"/content/drive/MyDrive/garbage2/processed_images/metal\"\n",
        "graypath_metal = r\"/content/drive/MyDrive/garbage2/processed_images/metal\"\n",
        "File_listing = os.listdir(imagepath_metal)\n",
        "for file in File_listing:\n",
        "    im = Image.open(imagepath_metal + '/' + file)\n",
        "    img = im.resize((32,32))\n",
        "    gray = img.convert('L')\n",
        "    gray.save(graypath_metal + '/' + file, \"JPEG\")"
      ]
    },
    {
      "cell_type": "code",
      "source": [
        "imagepath_paper = r\"/content/drive/MyDrive/garbage2/processed_images/paper\"\n",
        "graypath_paper = r\"/content/drive/MyDrive/garbage2/processed_images/paper\"\n",
        "File_listing = os.listdir(imagepath_metal)\n",
        "for file in File_listing:\n",
        "    im = Image.open(imagepath_metal + '/' + file)\n",
        "    img = im.resize((32,32))\n",
        "    gray = img.convert('L')\n",
        "    gray.save(graypath_metal + '/' + file, \"JPEG\")"
      ],
      "metadata": {
        "id": "ahX8Gg5Xdavj"
      },
      "id": "ahX8Gg5Xdavj",
      "execution_count": 9,
      "outputs": []
    },
    {
      "cell_type": "code",
      "source": [
        "imagepath_plastic = r\"/content/drive/MyDrive/garbage2/processed_images/plastic\"\n",
        "graypath_plastic = r\"/content/drive/MyDrive/garbage2/processed_images/plastic\"\n",
        "File_listing = os.listdir(imagepath_metal)\n",
        "for file in File_listing:\n",
        "    im = Image.open(imagepath_metal + '/' + file)\n",
        "    img = im.resize((32,32))\n",
        "    gray = img.convert('L')\n",
        "    gray.save(graypath_metal + '/' + file, \"JPEG\")"
      ],
      "metadata": {
        "id": "TUQqvd0DdtZL"
      },
      "id": "TUQqvd0DdtZL",
      "execution_count": 10,
      "outputs": []
    },
    {
      "cell_type": "markdown",
      "id": "_NWniB5Vhw03",
      "metadata": {
        "id": "_NWniB5Vhw03"
      },
      "source": [
        "1. ``train_dir = os.path.join(PATH_TRAIN)`` <br>\n",
        "``test_dir = os.path.join(PATH_TEST)`` <br>\n",
        "- The dataset is divided into two groups: the train data and the test data. The train data is where we teach the machine learning algorithm to predict specific images, while the test data is where we validate the algorithm's progress."
      ]
    },
    {
      "cell_type": "code",
      "execution_count": 46,
      "id": "ba8e1a87",
      "metadata": {
        "id": "ba8e1a87"
      },
      "outputs": [],
      "source": [
        "train_dir = os.path.join(PATH_TRAIN)\n",
        "test_dir = os.path.join(PATH_TEST)"
      ]
    },
    {
      "cell_type": "markdown",
      "id": "Whjad73ljwBF",
      "metadata": {
        "id": "Whjad73ljwBF"
      },
      "source": [
        "1. ``os.path.join`` - is a Python submodule of OS used for common pathname manipulation and provides a portable way o levergae operating system dependent functionality. In this case, we will use it in every class that our dataset has. for example, the ***imagepath_cardboard*** will intelligently join the path components which is the ***imagepath_cardboard_dir***."
      ]
    },
    {
      "cell_type": "code",
      "execution_count": 47,
      "id": "70e53a9d",
      "metadata": {
        "id": "70e53a9d"
      },
      "outputs": [],
      "source": [
        "imagepath_cardboard_dir = os.path.join(imagepath_cardboard)\n",
        "imagepath_glass_dir = os.path.join(imagepath_glass)\n",
        "imagepath_metal_dir = os.path.join(imagepath_metal)\n",
        "imagepath_paper_dir = os.path.join(imagepath_paper)\n",
        "imagepath_plastic_dir = os.path.join(imagepath_plastic)"
      ]
    },
    {
      "cell_type": "markdown",
      "id": "goo76aRSlzW5",
      "metadata": {
        "id": "goo76aRSlzW5"
      },
      "source": [
        "1. ``len(os.listdir(PATH_TRAIN))`` - it allows to display the list of file in the  ***PATH_TRAIN***. It returns the total count of the list in the specified path."
      ]
    },
    {
      "cell_type": "code",
      "execution_count": 48,
      "id": "f02e1341",
      "metadata": {
        "id": "f02e1341",
        "outputId": "1fad6f13-7294-4b8a-e405-5edc66a3be55",
        "colab": {
          "base_uri": "https://localhost:8080/"
        }
      },
      "outputs": [
        {
          "output_type": "execute_result",
          "data": {
            "text/plain": [
              "5"
            ]
          },
          "metadata": {},
          "execution_count": 48
        }
      ],
      "source": [
        "len(os.listdir(PATH_TRAIN))"
      ]
    },
    {
      "cell_type": "markdown",
      "id": "mbQ6iOsjmZCw",
      "metadata": {
        "id": "mbQ6iOsjmZCw"
      },
      "source": [
        "1. ``IMG_HEIGHT = 32`` <br>\n",
        "``IMG_WIDTH = 32`` <br>\n",
        "``batch_size = 32 `` -<br>\n",
        "- It allows to set the image height, width, and the batch_size to 32.\n",
        "\n"
      ]
    },
    {
      "cell_type": "code",
      "execution_count": 49,
      "id": "ca5cd7ca",
      "metadata": {
        "id": "ca5cd7ca"
      },
      "outputs": [],
      "source": [
        "IMG_HEIGHT = 32\n",
        "IMG_WIDTH = 32\n",
        "bath_size = 32"
      ]
    },
    {
      "cell_type": "markdown",
      "id": "oPzPsBHPnNVm",
      "metadata": {
        "id": "oPzPsBHPnNVm"
      },
      "source": [
        "1. ``image_gen = ImageDataGenerator(rescale=1./255)`` - Using the Keras ImageDataGeneratorclass, it can easily transform the image to range from range ***0,255*** to ***0,1***"
      ]
    },
    {
      "cell_type": "code",
      "execution_count": 50,
      "id": "8e670d39",
      "metadata": {
        "id": "8e670d39"
      },
      "outputs": [],
      "source": [
        "image_gen = ImageDataGenerator(rescale=1./255)"
      ]
    },
    {
      "cell_type": "markdown",
      "id": "faTngSr3oEPT",
      "metadata": {
        "id": "faTngSr3oEPT"
      },
      "source": [
        "1. the train folder contain a single folder inside which all the train images are present. Here are the most commonly used attributes along with the ``flow_from_directory()`` method. The ``directory`` where the classes of folders are present. We set the shuffle to ***true*** to shuffle the order of the images. The ``target_size``which we set the input image to ***32 x 32*** pixels. lastly, the ``class_mode`` where we set to ***categorical*** because we have more than two classes in the dataset."
      ]
    },
    {
      "cell_type": "code",
      "execution_count": 51,
      "id": "aaf491b1",
      "metadata": {
        "id": "aaf491b1",
        "outputId": "a8b28793-c3d0-413e-cb8d-4890b3aebfdc",
        "colab": {
          "base_uri": "https://localhost:8080/"
        }
      },
      "outputs": [
        {
          "output_type": "stream",
          "name": "stdout",
          "text": [
            "Found 2390 images belonging to 5 classes.\n"
          ]
        }
      ],
      "source": [
        "train_data_gen = image_gen.flow_from_directory(\n",
        "    directory = train_dir,\n",
        "    shuffle=True,\n",
        "    target_size = (IMG_HEIGHT, IMG_WIDTH),\n",
        "    class_mode='categorical')"
      ]
    },
    {
      "cell_type": "markdown",
      "id": "pFCWmAVcvO3O",
      "metadata": {
        "id": "pFCWmAVcvO3O"
      },
      "source": [
        "1. Same as above, the test folder contain a single folder inside which all the test images are present. Here are the most commonly used attributes along with the ``flow_from_directory()`` method. The ``directory`` where the classes of folders are present. We set the shuffle to ***true*** to shuffle the order of the images. The ``target_size``which we set the input image to ***32 x 32*** pixels. lastly, the ``class_mode`` where we set to ***categorical*** because we have more than two classes in the dataset."
      ]
    },
    {
      "cell_type": "code",
      "execution_count": 52,
      "id": "8c76648f",
      "metadata": {
        "id": "8c76648f",
        "outputId": "8e15afe0-88b2-450f-e9db-a4277a235e96",
        "colab": {
          "base_uri": "https://localhost:8080/"
        }
      },
      "outputs": [
        {
          "output_type": "stream",
          "name": "stdout",
          "text": [
            "Found 2390 images belonging to 5 classes.\n"
          ]
        }
      ],
      "source": [
        "test_data_gen = image_gen.flow_from_directory(\n",
        "    directory = test_dir,\n",
        "    shuffle=True,\n",
        "    target_size = (IMG_HEIGHT, IMG_WIDTH),\n",
        "    class_mode='categorical')"
      ]
    },
    {
      "cell_type": "code",
      "execution_count": 53,
      "id": "b6922c77",
      "metadata": {
        "id": "b6922c77"
      },
      "outputs": [],
      "source": [
        "sample_training_images, _= next(train_data_gen)"
      ]
    },
    {
      "cell_type": "markdown",
      "id": "xY41ehWXwGi3",
      "metadata": {
        "id": "xY41ehWXwGi3"
      },
      "source": [
        "1.  The ``plotImages`` function is to create a figure object. When the figure's size needs to be tweaked and more than one axes object needs to be added to a figure, we must explicity use plt.figure(). This ``(figsize=(20,20))`` function allows to set the size of the figure, In this case the figure is set by ***20:20*** ratio. Also, The ``ax.imshow`` display the image in 2D regualr raster. The ``axes.flatten()`` it returns the flattened version of the array. The ``plt.show()`` is the pyplot allows all sets figures to be displayed."
      ]
    },
    {
      "cell_type": "markdown",
      "id": "5rWM6CJc4EoW",
      "metadata": {
        "id": "5rWM6CJc4EoW"
      },
      "source": [
        "**Step 5** : Display and examine the images from the dataset."
      ]
    },
    {
      "cell_type": "code",
      "execution_count": 54,
      "id": "8f99b380",
      "metadata": {
        "id": "8f99b380"
      },
      "outputs": [],
      "source": [
        "#plt.figure()\n",
        "#plt.imshow(sample_training_images[0])\n",
        "#plt.show()\n",
        "\n",
        "def plotImages(images_arr):\n",
        "    fig, axes = plt.subplots(1, 3, figsize=(20,20))\n",
        "    axes = axes.flatten()\n",
        "    for img, ax in zip(images_arr, axes):\n",
        "        ax.imshow(img)\n",
        "        ax.axis('off')\n",
        "    plt.tight_layout()\n",
        "    plt.show()\n"
      ]
    },
    {
      "cell_type": "code",
      "execution_count": 55,
      "id": "8da68b75",
      "metadata": {
        "id": "8da68b75",
        "outputId": "f055b086-ded7-46fb-d415-74cc822e260b",
        "colab": {
          "base_uri": "https://localhost:8080/",
          "height": 517
        }
      },
      "outputs": [
        {
          "output_type": "display_data",
          "data": {
            "text/plain": [
              "<Figure size 2000x2000 with 3 Axes>"
            ],
            "image/png": "[encoded data removed]"
          },
          "metadata": {}
        }
      ],
      "source": [
        "plotImages(sample_training_images[:3])"
      ]
    },
    {
      "cell_type": "markdown",
      "id": "x88IvOJs4RRJ",
      "metadata": {
        "id": "x88IvOJs4RRJ"
      },
      "source": [
        "**Step 6** : Builing theee the Neural Network by using the Sequentil API"
      ]
    },
    {
      "cell_type": "markdown",
      "id": "E7hv4buAyAlu",
      "metadata": {
        "id": "E7hv4buAyAlu"
      },
      "source": [
        "1. ``model = Sequential()`` -  It is a model to use when there is only one input and one output on the data you need to show. It is not appropriate to use this model if you have multiple inputs and outputs. It helps you train and infer conclusions from your model. the ``input_shape=(28,28)`` represent the resolution of the image: ***32 x 32*** pixels. ``Dense`` It creates a new dense layer and returns the necessary output data for your model to use. Activation is the element-wise activation function used to pass through the activation arguments,  relu is the rectified linear unit activation function, and Sigmoid is equivalent to a 2-element Softmax, where the second element is taken to be zero."
      ]
    },
    {
      "cell_type": "code",
      "execution_count": 62,
      "id": "27b8a493",
      "metadata": {
        "id": "27b8a493"
      },
      "outputs": [],
      "source": [
        "model = Sequential([\n",
        "    Conv2D(16,3, padding='same', activation='relu', input_shape=(IMG_HEIGHT, IMG_WIDTH, 3)),\n",
        "    MaxPooling2D(),\n",
        "    Dropout(0.2),\n",
        "    Conv2D(32, 3, padding='same', activation='relu'),\n",
        "    MaxPooling2D(),\n",
        "    Conv2D(64, 3, padding='same', activation='relu'),\n",
        "    MaxPooling2D(),\n",
        "    Dropout(0.2),\n",
        "    Conv2D(128, 3, padding='same', activation='relu'),\n",
        "    MaxPooling2D(),\n",
        "    Dropout(0.2),\n",
        "    Conv2D(128, 3, padding='same', activation='relu'),\n",
        "    MaxPooling2D(),\n",
        "    Dropout(0.2),\n",
        "    Flatten(),\n",
        "    Dense(512, activation='relu'),\n",
        "    Dense(5, activation='softmax')\n",
        "])"
      ]
    },
    {
      "cell_type": "markdown",
      "id": "BqnU88mGyxp6",
      "metadata": {
        "id": "BqnU88mGyxp6"
      },
      "source": [
        "1. A model needs to be configured before it can be trained. Optimizers are classes or methods used to reduce the losses in the learning model by altering weight and learning rates. ***Adam*** optimizer involves a combination of two gradient descent methodologies: A model ***loss*** is the total quantity that should be minimized during training, while the ***metrics*** measures the model's performance. The ``model.summary()`` is a functions that shows the contents of the Sequential model."
      ]
    },
    {
      "cell_type": "markdown",
      "id": "TYnMQMEl4Z7e",
      "metadata": {
        "id": "TYnMQMEl4Z7e"
      },
      "source": [
        "**Step 7** : Defining an optimmizer, a loss function, and other useful training parameters."
      ]
    },
    {
      "cell_type": "code",
      "execution_count": 63,
      "id": "c06294e8",
      "metadata": {
        "id": "c06294e8"
      },
      "outputs": [],
      "source": [
        "model.compile(optimizer='adam',\n",
        "    loss='categorical_crossentropy',\n",
        "    metrics=['accuracy'])"
      ]
    },
    {
      "cell_type": "markdown",
      "id": "fbnfIjiI4oZ-",
      "metadata": {
        "id": "fbnfIjiI4oZ-"
      },
      "source": [
        "**Step 8** : Training the model by using the train dataset."
      ]
    },
    {
      "cell_type": "code",
      "execution_count": 64,
      "id": "a783639f",
      "metadata": {
        "id": "a783639f",
        "outputId": "aff38c83-a851-430e-e116-0c4dde08db9d",
        "colab": {
          "base_uri": "https://localhost:8080/",
          "height": 714
        }
      },
      "outputs": [
        {
          "output_type": "display_data",
          "data": {
            "text/plain": [
              "\u001b[1mModel: \"sequential_2\"\u001b[0m\n"
            ],
            "text/html": [
              "<pre style=\"white-space:pre;overflow-x:auto;line-height:normal;font-family:Menlo,'DejaVu Sans Mono',consolas,'Courier New',monospace\"><span style=\"font-weight: bold\">Model: \"sequential_2\"</span>\n",
              "</pre>\n"
            ]
          },
          "metadata": {}
        },
        {
          "output_type": "display_data",
          "data": {
            "text/plain": [
              "┏━━━━━━━━━━━━━━━━━━━━━━━━━━━━━━━━━┳━━━━━━━━━━━━━━━━━━━━━━━━┳━━━━━━━━━━━━━━━┓\n",
              "┃\u001b[1m \u001b[0m\u001b[1mLayer (type)                   \u001b[0m\u001b[1m \u001b[0m┃\u001b[1m \u001b[0m\u001b[1mOutput Shape          \u001b[0m\u001b[1m \u001b[0m┃\u001b[1m \u001b[0m\u001b[1m      Param #\u001b[0m\u001b[1m \u001b[0m┃\n",
              "┡━━━━━━━━━━━━━━━━━━━━━━━━━━━━━━━━━╇━━━━━━━━━━━━━━━━━━━━━━━━╇━━━━━━━━━━━━━━━┩\n",
              "│ conv2d_10 (\u001b[38;5;33mConv2D\u001b[0m)              │ (\u001b[38;5;45mNone\u001b[0m, \u001b[38;5;34m32\u001b[0m, \u001b[38;5;34m32\u001b[0m, \u001b[38;5;34m16\u001b[0m)     │           \u001b[38;5;34m448\u001b[0m │\n",
              "├─────────────────────────────────┼────────────────────────┼───────────────┤\n",
              "│ max_pooling2d_10 (\u001b[38;5;33mMaxPooling2D\u001b[0m) │ (\u001b[38;5;45mNone\u001b[0m, \u001b[38;5;34m16\u001b[0m, \u001b[38;5;34m16\u001b[0m, \u001b[38;5;34m16\u001b[0m)     │             \u001b[38;5;34m0\u001b[0m │\n",
              "├─────────────────────────────────┼────────────────────────┼───────────────┤\n",
              "│ dropout_8 (\u001b[38;5;33mDropout\u001b[0m)             │ (\u001b[38;5;45mNone\u001b[0m, \u001b[38;5;34m16\u001b[0m, \u001b[38;5;34m16\u001b[0m, \u001b[38;5;34m16\u001b[0m)     │             \u001b[38;5;34m0\u001b[0m │\n",
              "├─────────────────────────────────┼────────────────────────┼───────────────┤\n",
              "│ conv2d_11 (\u001b[38;5;33mConv2D\u001b[0m)              │ (\u001b[38;5;45mNone\u001b[0m, \u001b[38;5;34m16\u001b[0m, \u001b[38;5;34m16\u001b[0m, \u001b[38;5;34m32\u001b[0m)     │         \u001b[38;5;34m4,640\u001b[0m │\n",
              "├─────────────────────────────────┼────────────────────────┼───────────────┤\n",
              "│ max_pooling2d_11 (\u001b[38;5;33mMaxPooling2D\u001b[0m) │ (\u001b[38;5;45mNone\u001b[0m, \u001b[38;5;34m8\u001b[0m, \u001b[38;5;34m8\u001b[0m, \u001b[38;5;34m32\u001b[0m)       │             \u001b[38;5;34m0\u001b[0m │\n",
              "├─────────────────────────────────┼────────────────────────┼───────────────┤\n",
              "│ conv2d_12 (\u001b[38;5;33mConv2D\u001b[0m)              │ (\u001b[38;5;45mNone\u001b[0m, \u001b[38;5;34m8\u001b[0m, \u001b[38;5;34m8\u001b[0m, \u001b[38;5;34m64\u001b[0m)       │        \u001b[38;5;34m18,496\u001b[0m │\n",
              "├─────────────────────────────────┼────────────────────────┼───────────────┤\n",
              "│ max_pooling2d_12 (\u001b[38;5;33mMaxPooling2D\u001b[0m) │ (\u001b[38;5;45mNone\u001b[0m, \u001b[38;5;34m4\u001b[0m, \u001b[38;5;34m4\u001b[0m, \u001b[38;5;34m64\u001b[0m)       │             \u001b[38;5;34m0\u001b[0m │\n",
              "├─────────────────────────────────┼────────────────────────┼───────────────┤\n",
              "│ dropout_9 (\u001b[38;5;33mDropout\u001b[0m)             │ (\u001b[38;5;45mNone\u001b[0m, \u001b[38;5;34m4\u001b[0m, \u001b[38;5;34m4\u001b[0m, \u001b[38;5;34m64\u001b[0m)       │             \u001b[38;5;34m0\u001b[0m │\n",
              "├─────────────────────────────────┼────────────────────────┼───────────────┤\n",
              "│ conv2d_13 (\u001b[38;5;33mConv2D\u001b[0m)              │ (\u001b[38;5;45mNone\u001b[0m, \u001b[38;5;34m4\u001b[0m, \u001b[38;5;34m4\u001b[0m, \u001b[38;5;34m128\u001b[0m)      │        \u001b[38;5;34m73,856\u001b[0m │\n",
              "├─────────────────────────────────┼────────────────────────┼───────────────┤\n",
              "│ max_pooling2d_13 (\u001b[38;5;33mMaxPooling2D\u001b[0m) │ (\u001b[38;5;45mNone\u001b[0m, \u001b[38;5;34m2\u001b[0m, \u001b[38;5;34m2\u001b[0m, \u001b[38;5;34m128\u001b[0m)      │             \u001b[38;5;34m0\u001b[0m │\n",
              "├─────────────────────────────────┼────────────────────────┼───────────────┤\n",
              "│ dropout_10 (\u001b[38;5;33mDropout\u001b[0m)            │ (\u001b[38;5;45mNone\u001b[0m, \u001b[38;5;34m2\u001b[0m, \u001b[38;5;34m2\u001b[0m, \u001b[38;5;34m128\u001b[0m)      │             \u001b[38;5;34m0\u001b[0m │\n",
              "├─────────────────────────────────┼────────────────────────┼───────────────┤\n",
              "│ conv2d_14 (\u001b[38;5;33mConv2D\u001b[0m)              │ (\u001b[38;5;45mNone\u001b[0m, \u001b[38;5;34m2\u001b[0m, \u001b[38;5;34m2\u001b[0m, \u001b[38;5;34m128\u001b[0m)      │       \u001b[38;5;34m147,584\u001b[0m │\n",
              "├─────────────────────────────────┼────────────────────────┼───────────────┤\n",
              "│ max_pooling2d_14 (\u001b[38;5;33mMaxPooling2D\u001b[0m) │ (\u001b[38;5;45mNone\u001b[0m, \u001b[38;5;34m1\u001b[0m, \u001b[38;5;34m1\u001b[0m, \u001b[38;5;34m128\u001b[0m)      │             \u001b[38;5;34m0\u001b[0m │\n",
              "├─────────────────────────────────┼────────────────────────┼───────────────┤\n",
              "│ dropout_11 (\u001b[38;5;33mDropout\u001b[0m)            │ (\u001b[38;5;45mNone\u001b[0m, \u001b[38;5;34m1\u001b[0m, \u001b[38;5;34m1\u001b[0m, \u001b[38;5;34m128\u001b[0m)      │             \u001b[38;5;34m0\u001b[0m │\n",
              "├─────────────────────────────────┼────────────────────────┼───────────────┤\n",
              "│ flatten_2 (\u001b[38;5;33mFlatten\u001b[0m)             │ (\u001b[38;5;45mNone\u001b[0m, \u001b[38;5;34m128\u001b[0m)            │             \u001b[38;5;34m0\u001b[0m │\n",
              "├─────────────────────────────────┼────────────────────────┼───────────────┤\n",
              "│ dense_4 (\u001b[38;5;33mDense\u001b[0m)                 │ (\u001b[38;5;45mNone\u001b[0m, \u001b[38;5;34m512\u001b[0m)            │        \u001b[38;5;34m66,048\u001b[0m │\n",
              "├─────────────────────────────────┼────────────────────────┼───────────────┤\n",
              "│ dense_5 (\u001b[38;5;33mDense\u001b[0m)                 │ (\u001b[38;5;45mNone\u001b[0m, \u001b[38;5;34m5\u001b[0m)              │         \u001b[38;5;34m2,565\u001b[0m │\n",
              "└─────────────────────────────────┴────────────────────────┴───────────────┘\n"
            ],
            "text/html": [
              "<pre style=\"white-space:pre;overflow-x:auto;line-height:normal;font-family:Menlo,'DejaVu Sans Mono',consolas,'Courier New',monospace\">┏━━━━━━━━━━━━━━━━━━━━━━━━━━━━━━━━━┳━━━━━━━━━━━━━━━━━━━━━━━━┳━━━━━━━━━━━━━━━┓\n",
              "┃<span style=\"font-weight: bold\"> Layer (type)                    </span>┃<span style=\"font-weight: bold\"> Output Shape           </span>┃<span style=\"font-weight: bold\">       Param # </span>┃\n",
              "┡━━━━━━━━━━━━━━━━━━━━━━━━━━━━━━━━━╇━━━━━━━━━━━━━━━━━━━━━━━━╇━━━━━━━━━━━━━━━┩\n",
              "│ conv2d_10 (<span style=\"color: #0087ff; text-decoration-color: #0087ff\">Conv2D</span>)              │ (<span style=\"color: #00d7ff; text-decoration-color: #00d7ff\">None</span>, <span style=\"color: #00af00; text-decoration-color: #00af00\">32</span>, <span style=\"color: #00af00; text-decoration-color: #00af00\">32</span>, <span style=\"color: #00af00; text-decoration-color: #00af00\">16</span>)     │           <span style=\"color: #00af00; text-decoration-color: #00af00\">448</span> │\n",
              "├─────────────────────────────────┼────────────────────────┼───────────────┤\n",
              "│ max_pooling2d_10 (<span style=\"color: #0087ff; text-decoration-color: #0087ff\">MaxPooling2D</span>) │ (<span style=\"color: #00d7ff; text-decoration-color: #00d7ff\">None</span>, <span style=\"color: #00af00; text-decoration-color: #00af00\">16</span>, <span style=\"color: #00af00; text-decoration-color: #00af00\">16</span>, <span style=\"color: #00af00; text-decoration-color: #00af00\">16</span>)     │             <span style=\"color: #00af00; text-decoration-color: #00af00\">0</span> │\n",
              "├─────────────────────────────────┼────────────────────────┼───────────────┤\n",
              "│ dropout_8 (<span style=\"color: #0087ff; text-decoration-color: #0087ff\">Dropout</span>)             │ (<span style=\"color: #00d7ff; text-decoration-color: #00d7ff\">None</span>, <span style=\"color: #00af00; text-decoration-color: #00af00\">16</span>, <span style=\"color: #00af00; text-decoration-color: #00af00\">16</span>, <span style=\"color: #00af00; text-decoration-color: #00af00\">16</span>)     │             <span style=\"color: #00af00; text-decoration-color: #00af00\">0</span> │\n",
              "├─────────────────────────────────┼────────────────────────┼───────────────┤\n",
              "│ conv2d_11 (<span style=\"color: #0087ff; text-decoration-color: #0087ff\">Conv2D</span>)              │ (<span style=\"color: #00d7ff; text-decoration-color: #00d7ff\">None</span>, <span style=\"color: #00af00; text-decoration-color: #00af00\">16</span>, <span style=\"color: #00af00; text-decoration-color: #00af00\">16</span>, <span style=\"color: #00af00; text-decoration-color: #00af00\">32</span>)     │         <span style=\"color: #00af00; text-decoration-color: #00af00\">4,640</span> │\n",
              "├─────────────────────────────────┼────────────────────────┼───────────────┤\n",
              "│ max_pooling2d_11 (<span style=\"color: #0087ff; text-decoration-color: #0087ff\">MaxPooling2D</span>) │ (<span style=\"color: #00d7ff; text-decoration-color: #00d7ff\">None</span>, <span style=\"color: #00af00; text-decoration-color: #00af00\">8</span>, <span style=\"color: #00af00; text-decoration-color: #00af00\">8</span>, <span style=\"color: #00af00; text-decoration-color: #00af00\">32</span>)       │             <span style=\"color: #00af00; text-decoration-color: #00af00\">0</span> │\n",
              "├─────────────────────────────────┼────────────────────────┼───────────────┤\n",
              "│ conv2d_12 (<span style=\"color: #0087ff; text-decoration-color: #0087ff\">Conv2D</span>)              │ (<span style=\"color: #00d7ff; text-decoration-color: #00d7ff\">None</span>, <span style=\"color: #00af00; text-decoration-color: #00af00\">8</span>, <span style=\"color: #00af00; text-decoration-color: #00af00\">8</span>, <span style=\"color: #00af00; text-decoration-color: #00af00\">64</span>)       │        <span style=\"color: #00af00; text-decoration-color: #00af00\">18,496</span> │\n",
              "├─────────────────────────────────┼────────────────────────┼───────────────┤\n",
              "│ max_pooling2d_12 (<span style=\"color: #0087ff; text-decoration-color: #0087ff\">MaxPooling2D</span>) │ (<span style=\"color: #00d7ff; text-decoration-color: #00d7ff\">None</span>, <span style=\"color: #00af00; text-decoration-color: #00af00\">4</span>, <span style=\"color: #00af00; text-decoration-color: #00af00\">4</span>, <span style=\"color: #00af00; text-decoration-color: #00af00\">64</span>)       │             <span style=\"color: #00af00; text-decoration-color: #00af00\">0</span> │\n",
              "├─────────────────────────────────┼────────────────────────┼───────────────┤\n",
              "│ dropout_9 (<span style=\"color: #0087ff; text-decoration-color: #0087ff\">Dropout</span>)             │ (<span style=\"color: #00d7ff; text-decoration-color: #00d7ff\">None</span>, <span style=\"color: #00af00; text-decoration-color: #00af00\">4</span>, <span style=\"color: #00af00; text-decoration-color: #00af00\">4</span>, <span style=\"color: #00af00; text-decoration-color: #00af00\">64</span>)       │             <span style=\"color: #00af00; text-decoration-color: #00af00\">0</span> │\n",
              "├─────────────────────────────────┼────────────────────────┼───────────────┤\n",
              "│ conv2d_13 (<span style=\"color: #0087ff; text-decoration-color: #0087ff\">Conv2D</span>)              │ (<span style=\"color: #00d7ff; text-decoration-color: #00d7ff\">None</span>, <span style=\"color: #00af00; text-decoration-color: #00af00\">4</span>, <span style=\"color: #00af00; text-decoration-color: #00af00\">4</span>, <span style=\"color: #00af00; text-decoration-color: #00af00\">128</span>)      │        <span style=\"color: #00af00; text-decoration-color: #00af00\">73,856</span> │\n",
              "├─────────────────────────────────┼────────────────────────┼───────────────┤\n",
              "│ max_pooling2d_13 (<span style=\"color: #0087ff; text-decoration-color: #0087ff\">MaxPooling2D</span>) │ (<span style=\"color: #00d7ff; text-decoration-color: #00d7ff\">None</span>, <span style=\"color: #00af00; text-decoration-color: #00af00\">2</span>, <span style=\"color: #00af00; text-decoration-color: #00af00\">2</span>, <span style=\"color: #00af00; text-decoration-color: #00af00\">128</span>)      │             <span style=\"color: #00af00; text-decoration-color: #00af00\">0</span> │\n",
              "├─────────────────────────────────┼────────────────────────┼───────────────┤\n",
              "│ dropout_10 (<span style=\"color: #0087ff; text-decoration-color: #0087ff\">Dropout</span>)            │ (<span style=\"color: #00d7ff; text-decoration-color: #00d7ff\">None</span>, <span style=\"color: #00af00; text-decoration-color: #00af00\">2</span>, <span style=\"color: #00af00; text-decoration-color: #00af00\">2</span>, <span style=\"color: #00af00; text-decoration-color: #00af00\">128</span>)      │             <span style=\"color: #00af00; text-decoration-color: #00af00\">0</span> │\n",
              "├─────────────────────────────────┼────────────────────────┼───────────────┤\n",
              "│ conv2d_14 (<span style=\"color: #0087ff; text-decoration-color: #0087ff\">Conv2D</span>)              │ (<span style=\"color: #00d7ff; text-decoration-color: #00d7ff\">None</span>, <span style=\"color: #00af00; text-decoration-color: #00af00\">2</span>, <span style=\"color: #00af00; text-decoration-color: #00af00\">2</span>, <span style=\"color: #00af00; text-decoration-color: #00af00\">128</span>)      │       <span style=\"color: #00af00; text-decoration-color: #00af00\">147,584</span> │\n",
              "├─────────────────────────────────┼────────────────────────┼───────────────┤\n",
              "│ max_pooling2d_14 (<span style=\"color: #0087ff; text-decoration-color: #0087ff\">MaxPooling2D</span>) │ (<span style=\"color: #00d7ff; text-decoration-color: #00d7ff\">None</span>, <span style=\"color: #00af00; text-decoration-color: #00af00\">1</span>, <span style=\"color: #00af00; text-decoration-color: #00af00\">1</span>, <span style=\"color: #00af00; text-decoration-color: #00af00\">128</span>)      │             <span style=\"color: #00af00; text-decoration-color: #00af00\">0</span> │\n",
              "├─────────────────────────────────┼────────────────────────┼───────────────┤\n",
              "│ dropout_11 (<span style=\"color: #0087ff; text-decoration-color: #0087ff\">Dropout</span>)            │ (<span style=\"color: #00d7ff; text-decoration-color: #00d7ff\">None</span>, <span style=\"color: #00af00; text-decoration-color: #00af00\">1</span>, <span style=\"color: #00af00; text-decoration-color: #00af00\">1</span>, <span style=\"color: #00af00; text-decoration-color: #00af00\">128</span>)      │             <span style=\"color: #00af00; text-decoration-color: #00af00\">0</span> │\n",
              "├─────────────────────────────────┼────────────────────────┼───────────────┤\n",
              "│ flatten_2 (<span style=\"color: #0087ff; text-decoration-color: #0087ff\">Flatten</span>)             │ (<span style=\"color: #00d7ff; text-decoration-color: #00d7ff\">None</span>, <span style=\"color: #00af00; text-decoration-color: #00af00\">128</span>)            │             <span style=\"color: #00af00; text-decoration-color: #00af00\">0</span> │\n",
              "├─────────────────────────────────┼────────────────────────┼───────────────┤\n",
              "│ dense_4 (<span style=\"color: #0087ff; text-decoration-color: #0087ff\">Dense</span>)                 │ (<span style=\"color: #00d7ff; text-decoration-color: #00d7ff\">None</span>, <span style=\"color: #00af00; text-decoration-color: #00af00\">512</span>)            │        <span style=\"color: #00af00; text-decoration-color: #00af00\">66,048</span> │\n",
              "├─────────────────────────────────┼────────────────────────┼───────────────┤\n",
              "│ dense_5 (<span style=\"color: #0087ff; text-decoration-color: #0087ff\">Dense</span>)                 │ (<span style=\"color: #00d7ff; text-decoration-color: #00d7ff\">None</span>, <span style=\"color: #00af00; text-decoration-color: #00af00\">5</span>)              │         <span style=\"color: #00af00; text-decoration-color: #00af00\">2,565</span> │\n",
              "└─────────────────────────────────┴────────────────────────┴───────────────┘\n",
              "</pre>\n"
            ]
          },
          "metadata": {}
        },
        {
          "output_type": "display_data",
          "data": {
            "text/plain": [
              "\u001b[1m Total params: \u001b[0m\u001b[38;5;34m313,637\u001b[0m (1.20 MB)\n"
            ],
            "text/html": [
              "<pre style=\"white-space:pre;overflow-x:auto;line-height:normal;font-family:Menlo,'DejaVu Sans Mono',consolas,'Courier New',monospace\"><span style=\"font-weight: bold\"> Total params: </span><span style=\"color: #00af00; text-decoration-color: #00af00\">313,637</span> (1.20 MB)\n",
              "</pre>\n"
            ]
          },
          "metadata": {}
        },
        {
          "output_type": "display_data",
          "data": {
            "text/plain": [
              "\u001b[1m Trainable params: \u001b[0m\u001b[38;5;34m313,637\u001b[0m (1.20 MB)\n"
            ],
            "text/html": [
              "<pre style=\"white-space:pre;overflow-x:auto;line-height:normal;font-family:Menlo,'DejaVu Sans Mono',consolas,'Courier New',monospace\"><span style=\"font-weight: bold\"> Trainable params: </span><span style=\"color: #00af00; text-decoration-color: #00af00\">313,637</span> (1.20 MB)\n",
              "</pre>\n"
            ]
          },
          "metadata": {}
        },
        {
          "output_type": "display_data",
          "data": {
            "text/plain": [
              "\u001b[1m Non-trainable params: \u001b[0m\u001b[38;5;34m0\u001b[0m (0.00 B)\n"
            ],
            "text/html": [
              "<pre style=\"white-space:pre;overflow-x:auto;line-height:normal;font-family:Menlo,'DejaVu Sans Mono',consolas,'Courier New',monospace\"><span style=\"font-weight: bold\"> Non-trainable params: </span><span style=\"color: #00af00; text-decoration-color: #00af00\">0</span> (0.00 B)\n",
              "</pre>\n"
            ]
          },
          "metadata": {}
        }
      ],
      "source": [
        "model.summary()"
      ]
    },
    {
      "cell_type": "code",
      "execution_count": 65,
      "id": "111dbe99",
      "metadata": {
        "id": "111dbe99"
      },
      "outputs": [],
      "source": [
        "batch_size = 32\n",
        "epochs = 100"
      ]
    },
    {
      "cell_type": "markdown",
      "id": "S_YEeKMdaB_J",
      "metadata": {
        "id": "S_YEeKMdaB_J"
      },
      "source": [
        "1. The os module provides a function which lists all the files in the specified path using the names provided by the fuction. for example, ***imagepath_cardboard_dir*** with the num_cardboard_train.\n",
        "\n",
        "2. ``total_train = num_cardboard_train + num_glass_train + num_metal_train`` - total number of train set for ***cardboard***, ***glass***, ***metal***, ***paper***, ***plastic***, and ***trash***.\n",
        "\n",
        "3. ``total_test = num_cardboard_test + num_glass_test + num_metal_test`` - total number of test set for ***cardboard***, ***glass***, ***metal***, ***paper***, ***plastic***, and ***trash***."
      ]
    },
    {
      "cell_type": "code",
      "execution_count": 66,
      "id": "31666089",
      "metadata": {
        "id": "31666089"
      },
      "outputs": [],
      "source": [
        "num_cardboard_train = len(os.listdir(imagepath_cardboard_dir))\n",
        "num_glass_train = len(os.listdir(imagepath_glass_dir))\n",
        "num_metal_train = len(os.listdir(imagepath_metal_dir))\n",
        "num_paper_train = len(os.listdir(imagepath_paper_dir))\n",
        "num_plastic_train = len(os.listdir(imagepath_plastic_dir))\n",
        "\n",
        "num_cardboard_test = len(os.listdir(graypath_cardboard))\n",
        "num_glass_test = len(os.listdir(graypath_glass))\n",
        "num_metal_test = len(os.listdir(graypath_metal))\n",
        "num_plastic_test = len(os.listdir(graypath_plastic))\n",
        "num_paper_test = len(os.listdir(graypath_paper))\n",
        "\n",
        "total_train = num_cardboard_train + num_glass_train + num_metal_train\n",
        "total_test = num_cardboard_test + num_glass_test + num_metal_test"
      ]
    },
    {
      "cell_type": "markdown",
      "id": "ZdHQcWCgzkA0",
      "metadata": {
        "id": "ZdHQcWCgzkA0"
      },
      "source": [
        "1. In this model the number of epochs is set to 25 this number represent the number of times the training set to run. A model that is well-fit produces more accurate results, as it generalizes to similar data to that on which it was trained. ``validation_data`` Data on which to evaluate the loss and any model metrics at the end of each epoch. ``validation_steps`` Only relevant if validation_data is provided and is a tf. data dataset. Total number of steps to draw before stopping when performing validation at the end of every epoch."
      ]
    },
    {
      "cell_type": "code",
      "execution_count": 67,
      "id": "57f863e5",
      "metadata": {
        "id": "57f863e5",
        "outputId": "bd951a83-cf77-4765-8d96-decf5380e1ac",
        "colab": {
          "base_uri": "https://localhost:8080/"
        }
      },
      "outputs": [
        {
          "output_type": "stream",
          "name": "stdout",
          "text": [
            "Epoch 1/100\n",
            "\u001b[1m41/41\u001b[0m \u001b[32m━━━━━━━━━━━━━━━━━━━━\u001b[0m\u001b[37m\u001b[0m \u001b[1m17s\u001b[0m 317ms/step - accuracy: 0.2229 - loss: 1.6133 - val_accuracy: 0.2569 - val_loss: 1.5984\n",
            "Epoch 2/100\n",
            "\u001b[1m34/41\u001b[0m \u001b[32m━━━━━━━━━━━━━━━━\u001b[0m\u001b[37m━━━━\u001b[0m \u001b[1m1s\u001b[0m 199ms/step - accuracy: 0.2412 - loss: 1.5992"
          ]
        },
        {
          "output_type": "stream",
          "name": "stderr",
          "text": [
            "/usr/local/lib/python3.11/dist-packages/keras/src/trainers/epoch_iterator.py:107: UserWarning:\n",
            "\n",
            "Your input ran out of data; interrupting training. Make sure that your dataset or generator can generate at least `steps_per_epoch * epochs` batches. You may need to use the `.repeat()` function when building your dataset.\n",
            "\n"
          ]
        },
        {
          "output_type": "stream",
          "name": "stdout",
          "text": [
            "\b\b\b\b\b\b\b\b\b\b\b\b\b\b\b\b\b\b\b\b\b\b\b\b\b\b\b\b\b\b\b\b\b\b\b\b\b\b\b\b\b\b\b\b\b\b\b\b\b\b\b\b\b\b\b\b\b\b\b\b\b\b\b\b\b\b\b\b\b\b\b\b\b\b\r\u001b[1m41/41\u001b[0m \u001b[32m━━━━━━━━━━━━━━━━━━━━\u001b[0m\u001b[37m\u001b[0m \u001b[1m11s\u001b[0m 270ms/step - accuracy: 0.2458 - loss: 1.5969 - val_accuracy: 0.2637 - val_loss: 1.5924\n",
            "Epoch 3/100\n",
            "\u001b[1m41/41\u001b[0m \u001b[32m━━━━━━━━━━━━━━━━━━━━\u001b[0m\u001b[37m\u001b[0m \u001b[1m21s\u001b[0m 515ms/step - accuracy: 0.3331 - loss: 1.5263 - val_accuracy: 0.2873 - val_loss: 1.6887\n",
            "Epoch 4/100\n",
            "\u001b[1m41/41\u001b[0m \u001b[32m━━━━━━━━━━━━━━━━━━━━\u001b[0m\u001b[37m\u001b[0m \u001b[1m20s\u001b[0m 507ms/step - accuracy: 0.3774 - loss: 1.4465 - val_accuracy: 0.2317 - val_loss: 1.5941\n",
            "Epoch 5/100\n",
            "\u001b[1m41/41\u001b[0m \u001b[32m━━━━━━━━━━━━━━━━━━━━\u001b[0m\u001b[37m\u001b[0m \u001b[1m21s\u001b[0m 511ms/step - accuracy: 0.4495 - loss: 1.3008 - val_accuracy: 0.2363 - val_loss: 1.6630\n",
            "Epoch 6/100\n",
            "\u001b[1m41/41\u001b[0m \u001b[32m━━━━━━━━━━━━━━━━━━━━\u001b[0m\u001b[37m\u001b[0m \u001b[1m11s\u001b[0m 266ms/step - accuracy: 0.4262 - loss: 1.3068 - val_accuracy: 0.2020 - val_loss: 1.7522\n",
            "Epoch 7/100\n",
            "\u001b[1m41/41\u001b[0m \u001b[32m━━━━━━━━━━━━━━━━━━━━\u001b[0m\u001b[37m\u001b[0m \u001b[1m41s\u001b[0m 795ms/step - accuracy: 0.4338 - loss: 1.2484 - val_accuracy: 0.2530 - val_loss: 1.6638\n",
            "Epoch 8/100\n",
            "\u001b[1m41/41\u001b[0m \u001b[32m━━━━━━━━━━━━━━━━━━━━\u001b[0m\u001b[37m\u001b[0m \u001b[1m12s\u001b[0m 291ms/step - accuracy: 0.4751 - loss: 1.2059 - val_accuracy: 0.2873 - val_loss: 1.6541\n",
            "Epoch 9/100\n",
            "\u001b[1m41/41\u001b[0m \u001b[32m━━━━━━━━━━━━━━━━━━━━\u001b[0m\u001b[37m\u001b[0m \u001b[1m82s\u001b[0m 1s/step - accuracy: 0.4865 - loss: 1.2499 - val_accuracy: 0.2500 - val_loss: 1.8185\n",
            "Epoch 10/100\n",
            "\u001b[1m41/41\u001b[0m \u001b[32m━━━━━━━━━━━━━━━━━━━━\u001b[0m\u001b[37m\u001b[0m \u001b[1m20s\u001b[0m 496ms/step - accuracy: 0.5045 - loss: 1.1624 - val_accuracy: 0.2713 - val_loss: 1.7745\n",
            "Epoch 11/100\n",
            "\u001b[1m41/41\u001b[0m \u001b[32m━━━━━━━━━━━━━━━━━━━━\u001b[0m\u001b[37m\u001b[0m \u001b[1m30s\u001b[0m 296ms/step - accuracy: 0.5179 - loss: 1.1508 - val_accuracy: 0.2851 - val_loss: 1.7952\n",
            "Epoch 12/100\n",
            "\u001b[1m41/41\u001b[0m \u001b[32m━━━━━━━━━━━━━━━━━━━━\u001b[0m\u001b[37m\u001b[0m \u001b[1m11s\u001b[0m 263ms/step - accuracy: 0.5662 - loss: 1.0424 - val_accuracy: 0.2965 - val_loss: 1.7049\n",
            "Epoch 13/100\n",
            "\u001b[1m41/41\u001b[0m \u001b[32m━━━━━━━━━━━━━━━━━━━━\u001b[0m\u001b[37m\u001b[0m \u001b[1m41s\u001b[0m 569ms/step - accuracy: 0.5264 - loss: 1.0832 - val_accuracy: 0.3003 - val_loss: 1.7133\n",
            "Epoch 14/100\n",
            "\u001b[1m41/41\u001b[0m \u001b[32m━━━━━━━━━━━━━━━━━━━━\u001b[0m\u001b[37m\u001b[0m \u001b[1m10s\u001b[0m 248ms/step - accuracy: 0.5657 - loss: 1.0542 - val_accuracy: 0.3171 - val_loss: 1.6180\n",
            "Epoch 15/100\n",
            "\u001b[1m41/41\u001b[0m \u001b[32m━━━━━━━━━━━━━━━━━━━━\u001b[0m\u001b[37m\u001b[0m \u001b[1m21s\u001b[0m 311ms/step - accuracy: 0.5998 - loss: 0.9858 - val_accuracy: 0.3049 - val_loss: 1.7262\n",
            "Epoch 16/100\n",
            "\u001b[1m41/41\u001b[0m \u001b[32m━━━━━━━━━━━━━━━━━━━━\u001b[0m\u001b[37m\u001b[0m \u001b[1m11s\u001b[0m 265ms/step - accuracy: 0.6152 - loss: 0.9579 - val_accuracy: 0.2934 - val_loss: 1.6967\n",
            "Epoch 17/100\n",
            "\u001b[1m41/41\u001b[0m \u001b[32m━━━━━━━━━━━━━━━━━━━━\u001b[0m\u001b[37m\u001b[0m \u001b[1m41s\u001b[0m 578ms/step - accuracy: 0.6229 - loss: 0.9628 - val_accuracy: 0.3422 - val_loss: 1.6044\n",
            "Epoch 18/100\n",
            "\u001b[1m41/41\u001b[0m \u001b[32m━━━━━━━━━━━━━━━━━━━━\u001b[0m\u001b[37m\u001b[0m \u001b[1m11s\u001b[0m 262ms/step - accuracy: 0.6388 - loss: 0.9049 - val_accuracy: 0.3323 - val_loss: 1.6597\n",
            "Epoch 19/100\n",
            "\u001b[1m41/41\u001b[0m \u001b[32m━━━━━━━━━━━━━━━━━━━━\u001b[0m\u001b[37m\u001b[0m \u001b[1m13s\u001b[0m 312ms/step - accuracy: 0.6527 - loss: 0.8813 - val_accuracy: 0.2980 - val_loss: 2.0375\n",
            "Epoch 20/100\n",
            "\u001b[1m41/41\u001b[0m \u001b[32m━━━━━━━━━━━━━━━━━━━━\u001b[0m\u001b[37m\u001b[0m \u001b[1m11s\u001b[0m 274ms/step - accuracy: 0.6615 - loss: 0.8924 - val_accuracy: 0.2957 - val_loss: 1.6966\n",
            "Epoch 21/100\n",
            "\u001b[1m41/41\u001b[0m \u001b[32m━━━━━━━━━━━━━━━━━━━━\u001b[0m\u001b[37m\u001b[0m \u001b[1m41s\u001b[0m 604ms/step - accuracy: 0.6546 - loss: 0.8818 - val_accuracy: 0.3232 - val_loss: 1.8092\n",
            "Epoch 22/100\n",
            "\u001b[1m41/41\u001b[0m \u001b[32m━━━━━━━━━━━━━━━━━━━━\u001b[0m\u001b[37m\u001b[0m \u001b[1m11s\u001b[0m 267ms/step - accuracy: 0.6669 - loss: 0.8643 - val_accuracy: 0.2797 - val_loss: 1.9620\n",
            "Epoch 23/100\n",
            "\u001b[1m41/41\u001b[0m \u001b[32m━━━━━━━━━━━━━━━━━━━━\u001b[0m\u001b[37m\u001b[0m \u001b[1m21s\u001b[0m 508ms/step - accuracy: 0.6819 - loss: 0.8381 - val_accuracy: 0.2637 - val_loss: 2.2972\n",
            "Epoch 24/100\n",
            "\u001b[1m41/41\u001b[0m \u001b[32m━━━━━━━━━━━━━━━━━━━━\u001b[0m\u001b[37m\u001b[0m \u001b[1m11s\u001b[0m 264ms/step - accuracy: 0.7024 - loss: 0.7928 - val_accuracy: 0.3460 - val_loss: 1.6363\n",
            "Epoch 25/100\n",
            "\u001b[1m41/41\u001b[0m \u001b[32m━━━━━━━━━━━━━━━━━━━━\u001b[0m\u001b[37m\u001b[0m \u001b[1m23s\u001b[0m 324ms/step - accuracy: 0.7403 - loss: 0.7194 - val_accuracy: 0.3407 - val_loss: 1.6922\n",
            "Epoch 26/100\n",
            "\u001b[1m41/41\u001b[0m \u001b[32m━━━━━━━━━━━━━━━━━━━━\u001b[0m\u001b[37m\u001b[0m \u001b[1m21s\u001b[0m 512ms/step - accuracy: 0.6521 - loss: 0.8596 - val_accuracy: 0.3468 - val_loss: 1.7979\n",
            "Epoch 27/100\n",
            "\u001b[1m41/41\u001b[0m \u001b[32m━━━━━━━━━━━━━━━━━━━━\u001b[0m\u001b[37m\u001b[0m \u001b[1m20s\u001b[0m 315ms/step - accuracy: 0.7110 - loss: 0.7286 - val_accuracy: 0.3758 - val_loss: 1.6853\n",
            "Epoch 28/100\n",
            "\u001b[1m41/41\u001b[0m \u001b[32m━━━━━━━━━━━━━━━━━━━━\u001b[0m\u001b[37m\u001b[0m \u001b[1m21s\u001b[0m 520ms/step - accuracy: 0.7357 - loss: 0.6936 - val_accuracy: 0.2599 - val_loss: 2.4073\n",
            "Epoch 29/100\n",
            "\u001b[1m41/41\u001b[0m \u001b[32m━━━━━━━━━━━━━━━━━━━━\u001b[0m\u001b[37m\u001b[0m \u001b[1m12s\u001b[0m 288ms/step - accuracy: 0.7311 - loss: 0.7516 - val_accuracy: 0.4070 - val_loss: 1.5086\n",
            "Epoch 30/100\n",
            "\u001b[1m41/41\u001b[0m \u001b[32m━━━━━━━━━━━━━━━━━━━━\u001b[0m\u001b[37m\u001b[0m \u001b[1m20s\u001b[0m 493ms/step - accuracy: 0.7529 - loss: 0.6581 - val_accuracy: 0.3468 - val_loss: 1.7827\n",
            "Epoch 31/100\n",
            "\u001b[1m41/41\u001b[0m \u001b[32m━━━━━━━━━━━━━━━━━━━━\u001b[0m\u001b[37m\u001b[0m \u001b[1m41s\u001b[0m 789ms/step - accuracy: 0.7569 - loss: 0.6509 - val_accuracy: 0.3247 - val_loss: 1.8706\n",
            "Epoch 32/100\n",
            "\u001b[1m41/41\u001b[0m \u001b[32m━━━━━━━━━━━━━━━━━━━━\u001b[0m\u001b[37m\u001b[0m \u001b[1m21s\u001b[0m 518ms/step - accuracy: 0.7629 - loss: 0.6650 - val_accuracy: 0.3689 - val_loss: 1.5186\n",
            "Epoch 33/100\n",
            "\u001b[1m41/41\u001b[0m \u001b[32m━━━━━━━━━━━━━━━━━━━━\u001b[0m\u001b[37m\u001b[0m \u001b[1m13s\u001b[0m 321ms/step - accuracy: 0.7635 - loss: 0.6628 - val_accuracy: 0.3697 - val_loss: 1.4429\n",
            "Epoch 34/100\n",
            "\u001b[1m41/41\u001b[0m \u001b[32m━━━━━━━━━━━━━━━━━━━━\u001b[0m\u001b[37m\u001b[0m \u001b[1m11s\u001b[0m 264ms/step - accuracy: 0.7808 - loss: 0.5903 - val_accuracy: 0.4238 - val_loss: 1.4090\n",
            "Epoch 35/100\n",
            "\u001b[1m41/41\u001b[0m \u001b[32m━━━━━━━━━━━━━━━━━━━━\u001b[0m\u001b[37m\u001b[0m \u001b[1m41s\u001b[0m 592ms/step - accuracy: 0.7570 - loss: 0.5948 - val_accuracy: 0.3994 - val_loss: 1.4228\n",
            "Epoch 36/100\n",
            "\u001b[1m41/41\u001b[0m \u001b[32m━━━━━━━━━━━━━━━━━━━━\u001b[0m\u001b[37m\u001b[0m \u001b[1m10s\u001b[0m 256ms/step - accuracy: 0.7689 - loss: 0.6114 - val_accuracy: 0.3620 - val_loss: 1.8021\n",
            "Epoch 37/100\n",
            "\u001b[1m41/41\u001b[0m \u001b[32m━━━━━━━━━━━━━━━━━━━━\u001b[0m\u001b[37m\u001b[0m \u001b[1m12s\u001b[0m 292ms/step - accuracy: 0.7996 - loss: 0.5673 - val_accuracy: 0.4093 - val_loss: 1.4779\n",
            "Epoch 38/100\n",
            "\u001b[1m41/41\u001b[0m \u001b[32m━━━━━━━━━━━━━━━━━━━━\u001b[0m\u001b[37m\u001b[0m \u001b[1m11s\u001b[0m 272ms/step - accuracy: 0.8020 - loss: 0.5477 - val_accuracy: 0.3361 - val_loss: 2.0148\n",
            "Epoch 39/100\n",
            "\u001b[1m41/41\u001b[0m \u001b[32m━━━━━━━━━━━━━━━━━━━━\u001b[0m\u001b[37m\u001b[0m \u001b[1m13s\u001b[0m 313ms/step - accuracy: 0.8102 - loss: 0.5398 - val_accuracy: 0.3780 - val_loss: 1.5819\n",
            "Epoch 40/100\n",
            "\u001b[1m41/41\u001b[0m \u001b[32m━━━━━━━━━━━━━━━━━━━━\u001b[0m\u001b[37m\u001b[0m \u001b[1m11s\u001b[0m 272ms/step - accuracy: 0.7725 - loss: 0.5713 - val_accuracy: 0.4162 - val_loss: 1.4229\n",
            "Epoch 41/100\n",
            "\u001b[1m41/41\u001b[0m \u001b[32m━━━━━━━━━━━━━━━━━━━━\u001b[0m\u001b[37m\u001b[0m \u001b[1m30s\u001b[0m 317ms/step - accuracy: 0.8211 - loss: 0.5072 - val_accuracy: 0.3689 - val_loss: 1.7002\n",
            "Epoch 42/100\n",
            "\u001b[1m41/41\u001b[0m \u001b[32m━━━━━━━━━━━━━━━━━━━━\u001b[0m\u001b[37m\u001b[0m \u001b[1m11s\u001b[0m 267ms/step - accuracy: 0.8140 - loss: 0.4861 - val_accuracy: 0.4223 - val_loss: 1.4522\n",
            "Epoch 43/100\n",
            "\u001b[1m41/41\u001b[0m \u001b[32m━━━━━━━━━━━━━━━━━━━━\u001b[0m\u001b[37m\u001b[0m \u001b[1m12s\u001b[0m 293ms/step - accuracy: 0.8088 - loss: 0.5065 - val_accuracy: 0.3834 - val_loss: 1.5955\n",
            "Epoch 44/100\n",
            "\u001b[1m41/41\u001b[0m \u001b[32m━━━━━━━━━━━━━━━━━━━━\u001b[0m\u001b[37m\u001b[0m \u001b[1m20s\u001b[0m 495ms/step - accuracy: 0.7853 - loss: 0.5604 - val_accuracy: 0.4055 - val_loss: 1.5037\n",
            "Epoch 45/100\n",
            "\u001b[1m41/41\u001b[0m \u001b[32m━━━━━━━━━━━━━━━━━━━━\u001b[0m\u001b[37m\u001b[0m \u001b[1m21s\u001b[0m 518ms/step - accuracy: 0.7859 - loss: 0.5349 - val_accuracy: 0.4192 - val_loss: 1.5519\n",
            "Epoch 46/100\n",
            "\u001b[1m41/41\u001b[0m \u001b[32m━━━━━━━━━━━━━━━━━━━━\u001b[0m\u001b[37m\u001b[0m \u001b[1m20s\u001b[0m 495ms/step - accuracy: 0.8029 - loss: 0.5178 - val_accuracy: 0.3613 - val_loss: 1.7160\n",
            "Epoch 47/100\n",
            "\u001b[1m41/41\u001b[0m \u001b[32m━━━━━━━━━━━━━━━━━━━━\u001b[0m\u001b[37m\u001b[0m \u001b[1m53s\u001b[0m 291ms/step - accuracy: 0.8491 - loss: 0.4038 - val_accuracy: 0.3994 - val_loss: 1.6823\n",
            "Epoch 48/100\n",
            "\u001b[1m41/41\u001b[0m \u001b[32m━━━━━━━━━━━━━━━━━━━━\u001b[0m\u001b[37m\u001b[0m \u001b[1m10s\u001b[0m 259ms/step - accuracy: 0.8128 - loss: 0.4764 - val_accuracy: 0.3834 - val_loss: 1.8363\n",
            "Epoch 49/100\n",
            "\u001b[1m41/41\u001b[0m \u001b[32m━━━━━━━━━━━━━━━━━━━━\u001b[0m\u001b[37m\u001b[0m \u001b[1m31s\u001b[0m 300ms/step - accuracy: 0.8044 - loss: 0.5256 - val_accuracy: 0.4047 - val_loss: 1.6043\n",
            "Epoch 50/100\n",
            "\u001b[1m41/41\u001b[0m \u001b[32m━━━━━━━━━━━━━━━━━━━━\u001b[0m\u001b[37m\u001b[0m \u001b[1m20s\u001b[0m 491ms/step - accuracy: 0.8631 - loss: 0.3916 - val_accuracy: 0.4520 - val_loss: 1.4056\n",
            "Epoch 51/100\n",
            "\u001b[1m41/41\u001b[0m \u001b[32m━━━━━━━━━━━━━━━━━━━━\u001b[0m\u001b[37m\u001b[0m \u001b[1m21s\u001b[0m 517ms/step - accuracy: 0.8776 - loss: 0.3485 - val_accuracy: 0.4787 - val_loss: 1.3320\n",
            "Epoch 52/100\n",
            "\u001b[1m41/41\u001b[0m \u001b[32m━━━━━━━━━━━━━━━━━━━━\u001b[0m\u001b[37m\u001b[0m \u001b[1m11s\u001b[0m 261ms/step - accuracy: 0.8473 - loss: 0.4210 - val_accuracy: 0.3552 - val_loss: 2.2327\n",
            "Epoch 53/100\n",
            "\u001b[1m41/41\u001b[0m \u001b[32m━━━━━━━━━━━━━━━━━━━━\u001b[0m\u001b[37m\u001b[0m \u001b[1m41s\u001b[0m 790ms/step - accuracy: 0.8382 - loss: 0.4160 - val_accuracy: 0.3651 - val_loss: 1.6508\n",
            "Epoch 54/100\n",
            "\u001b[1m41/41\u001b[0m \u001b[32m━━━━━━━━━━━━━━━━━━━━\u001b[0m\u001b[37m\u001b[0m \u001b[1m10s\u001b[0m 240ms/step - accuracy: 0.8470 - loss: 0.3762 - val_accuracy: 0.4558 - val_loss: 1.3553\n",
            "Epoch 55/100\n",
            "\u001b[1m41/41\u001b[0m \u001b[32m━━━━━━━━━━━━━━━━━━━━\u001b[0m\u001b[37m\u001b[0m \u001b[1m21s\u001b[0m 518ms/step - accuracy: 0.8589 - loss: 0.3856 - val_accuracy: 0.3514 - val_loss: 2.0147\n",
            "Epoch 56/100\n",
            "\u001b[1m41/41\u001b[0m \u001b[32m━━━━━━━━━━━━━━━━━━━━\u001b[0m\u001b[37m\u001b[0m \u001b[1m20s\u001b[0m 497ms/step - accuracy: 0.8767 - loss: 0.3375 - val_accuracy: 0.4291 - val_loss: 1.5353\n",
            "Epoch 57/100\n",
            "\u001b[1m41/41\u001b[0m \u001b[32m━━━━━━━━━━━━━━━━━━━━\u001b[0m\u001b[37m\u001b[0m \u001b[1m12s\u001b[0m 300ms/step - accuracy: 0.8507 - loss: 0.3915 - val_accuracy: 0.3811 - val_loss: 1.7836\n",
            "Epoch 58/100\n",
            "\u001b[1m41/41\u001b[0m \u001b[32m━━━━━━━━━━━━━━━━━━━━\u001b[0m\u001b[37m\u001b[0m \u001b[1m21s\u001b[0m 514ms/step - accuracy: 0.8670 - loss: 0.3474 - val_accuracy: 0.4101 - val_loss: 1.6209\n",
            "Epoch 59/100\n",
            "\u001b[1m41/41\u001b[0m \u001b[32m━━━━━━━━━━━━━━━━━━━━\u001b[0m\u001b[37m\u001b[0m \u001b[1m20s\u001b[0m 302ms/step - accuracy: 0.8833 - loss: 0.3421 - val_accuracy: 0.3895 - val_loss: 1.6721\n",
            "Epoch 60/100\n",
            "\u001b[1m41/41\u001b[0m \u001b[32m━━━━━━━━━━━━━━━━━━━━\u001b[0m\u001b[37m\u001b[0m \u001b[1m21s\u001b[0m 518ms/step - accuracy: 0.8662 - loss: 0.3153 - val_accuracy: 0.5076 - val_loss: 1.2677\n",
            "Epoch 61/100\n",
            "\u001b[1m41/41\u001b[0m \u001b[32m━━━━━━━━━━━━━━━━━━━━\u001b[0m\u001b[37m\u001b[0m \u001b[1m20s\u001b[0m 300ms/step - accuracy: 0.8848 - loss: 0.3400 - val_accuracy: 0.4459 - val_loss: 1.5351\n",
            "Epoch 62/100\n",
            "\u001b[1m41/41\u001b[0m \u001b[32m━━━━━━━━━━━━━━━━━━━━\u001b[0m\u001b[37m\u001b[0m \u001b[1m21s\u001b[0m 528ms/step - accuracy: 0.8686 - loss: 0.3416 - val_accuracy: 0.4428 - val_loss: 1.4818\n",
            "Epoch 63/100\n",
            "\u001b[1m41/41\u001b[0m \u001b[32m━━━━━━━━━━━━━━━━━━━━\u001b[0m\u001b[37m\u001b[0m \u001b[1m20s\u001b[0m 489ms/step - accuracy: 0.8808 - loss: 0.2825 - val_accuracy: 0.3674 - val_loss: 2.0366\n",
            "Epoch 64/100\n",
            "\u001b[1m41/41\u001b[0m \u001b[32m━━━━━━━━━━━━━━━━━━━━\u001b[0m\u001b[37m\u001b[0m \u001b[1m20s\u001b[0m 507ms/step - accuracy: 0.8506 - loss: 0.4065 - val_accuracy: 0.4390 - val_loss: 1.5657\n",
            "Epoch 65/100\n",
            "\u001b[1m41/41\u001b[0m \u001b[32m━━━━━━━━━━━━━━━━━━━━\u001b[0m\u001b[37m\u001b[0m \u001b[1m21s\u001b[0m 517ms/step - accuracy: 0.8892 - loss: 0.3031 - val_accuracy: 0.3887 - val_loss: 1.7945\n",
            "Epoch 66/100\n",
            "\u001b[1m41/41\u001b[0m \u001b[32m━━━━━━━━━━━━━━━━━━━━\u001b[0m\u001b[37m\u001b[0m \u001b[1m11s\u001b[0m 278ms/step - accuracy: 0.8845 - loss: 0.3082 - val_accuracy: 0.4253 - val_loss: 1.5395\n",
            "Epoch 67/100\n",
            "\u001b[1m41/41\u001b[0m \u001b[32m━━━━━━━━━━━━━━━━━━━━\u001b[0m\u001b[37m\u001b[0m \u001b[1m13s\u001b[0m 327ms/step - accuracy: 0.8960 - loss: 0.2461 - val_accuracy: 0.4299 - val_loss: 1.7553\n",
            "Epoch 68/100\n",
            "\u001b[1m41/41\u001b[0m \u001b[32m━━━━━━━━━━━━━━━━━━━━\u001b[0m\u001b[37m\u001b[0m \u001b[1m12s\u001b[0m 293ms/step - accuracy: 0.8880 - loss: 0.3121 - val_accuracy: 0.3941 - val_loss: 2.1048\n",
            "Epoch 69/100\n",
            "\u001b[1m41/41\u001b[0m \u001b[32m━━━━━━━━━━━━━━━━━━━━\u001b[0m\u001b[37m\u001b[0m \u001b[1m14s\u001b[0m 338ms/step - accuracy: 0.9022 - loss: 0.2667 - val_accuracy: 0.4047 - val_loss: 1.8266\n",
            "Epoch 70/100\n",
            "\u001b[1m41/41\u001b[0m \u001b[32m━━━━━━━━━━━━━━━━━━━━\u001b[0m\u001b[37m\u001b[0m \u001b[1m12s\u001b[0m 295ms/step - accuracy: 0.9115 - loss: 0.2906 - val_accuracy: 0.4733 - val_loss: 1.4701\n",
            "Epoch 71/100\n",
            "\u001b[1m41/41\u001b[0m \u001b[32m━━━━━━━━━━━━━━━━━━━━\u001b[0m\u001b[37m\u001b[0m \u001b[1m29s\u001b[0m 329ms/step - accuracy: 0.8990 - loss: 0.2682 - val_accuracy: 0.4238 - val_loss: 1.7578\n",
            "Epoch 72/100\n",
            "\u001b[1m41/41\u001b[0m \u001b[32m━━━━━━━━━━━━━━━━━━━━\u001b[0m\u001b[37m\u001b[0m \u001b[1m21s\u001b[0m 525ms/step - accuracy: 0.9087 - loss: 0.2563 - val_accuracy: 0.4162 - val_loss: 1.6970\n",
            "Epoch 73/100\n",
            "\u001b[1m41/41\u001b[0m \u001b[32m━━━━━━━━━━━━━━━━━━━━\u001b[0m\u001b[37m\u001b[0m \u001b[1m20s\u001b[0m 491ms/step - accuracy: 0.8910 - loss: 0.2643 - val_accuracy: 0.4413 - val_loss: 1.6547\n",
            "Epoch 74/100\n",
            "\u001b[1m41/41\u001b[0m \u001b[32m━━━━━━━━━━━━━━━━━━━━\u001b[0m\u001b[37m\u001b[0m \u001b[1m12s\u001b[0m 304ms/step - accuracy: 0.9106 - loss: 0.2328 - val_accuracy: 0.4939 - val_loss: 1.5549\n",
            "Epoch 75/100\n",
            "\u001b[1m41/41\u001b[0m \u001b[32m━━━━━━━━━━━━━━━━━━━━\u001b[0m\u001b[37m\u001b[0m \u001b[1m41s\u001b[0m 792ms/step - accuracy: 0.8926 - loss: 0.2741 - val_accuracy: 0.4809 - val_loss: 1.6992\n",
            "Epoch 76/100\n",
            "\u001b[1m41/41\u001b[0m \u001b[32m━━━━━━━━━━━━━━━━━━━━\u001b[0m\u001b[37m\u001b[0m \u001b[1m11s\u001b[0m 283ms/step - accuracy: 0.9029 - loss: 0.2592 - val_accuracy: 0.4398 - val_loss: 1.7817\n",
            "Epoch 77/100\n",
            "\u001b[1m41/41\u001b[0m \u001b[32m━━━━━━━━━━━━━━━━━━━━\u001b[0m\u001b[37m\u001b[0m \u001b[1m21s\u001b[0m 520ms/step - accuracy: 0.9034 - loss: 0.2452 - val_accuracy: 0.4482 - val_loss: 1.8144\n",
            "Epoch 78/100\n",
            "\u001b[1m41/41\u001b[0m \u001b[32m━━━━━━━━━━━━━━━━━━━━\u001b[0m\u001b[37m\u001b[0m \u001b[1m20s\u001b[0m 498ms/step - accuracy: 0.9035 - loss: 0.2745 - val_accuracy: 0.4162 - val_loss: 1.7573\n",
            "Epoch 79/100\n",
            "\u001b[1m41/41\u001b[0m \u001b[32m━━━━━━━━━━━━━━━━━━━━\u001b[0m\u001b[37m\u001b[0m \u001b[1m14s\u001b[0m 344ms/step - accuracy: 0.9167 - loss: 0.2439 - val_accuracy: 0.4642 - val_loss: 1.5296\n",
            "Epoch 80/100\n",
            "\u001b[1m41/41\u001b[0m \u001b[32m━━━━━━━━━━━━━━━━━━━━\u001b[0m\u001b[37m\u001b[0m \u001b[1m21s\u001b[0m 512ms/step - accuracy: 0.8955 - loss: 0.2647 - val_accuracy: 0.4581 - val_loss: 1.7597\n",
            "Epoch 81/100\n",
            "\u001b[1m41/41\u001b[0m \u001b[32m━━━━━━━━━━━━━━━━━━━━\u001b[0m\u001b[37m\u001b[0m \u001b[1m20s\u001b[0m 333ms/step - accuracy: 0.9140 - loss: 0.2577 - val_accuracy: 0.4962 - val_loss: 1.6590\n",
            "Epoch 82/100\n",
            "\u001b[1m41/41\u001b[0m \u001b[32m━━━━━━━━━━━━━━━━━━━━\u001b[0m\u001b[37m\u001b[0m \u001b[1m21s\u001b[0m 519ms/step - accuracy: 0.9163 - loss: 0.2150 - val_accuracy: 0.4352 - val_loss: 2.0308\n",
            "Epoch 83/100\n",
            "\u001b[1m41/41\u001b[0m \u001b[32m━━━━━━━━━━━━━━━━━━━━\u001b[0m\u001b[37m\u001b[0m \u001b[1m12s\u001b[0m 298ms/step - accuracy: 0.9261 - loss: 0.2018 - val_accuracy: 0.4794 - val_loss: 1.6576\n",
            "Epoch 84/100\n",
            "\u001b[1m41/41\u001b[0m \u001b[32m━━━━━━━━━━━━━━━━━━━━\u001b[0m\u001b[37m\u001b[0m \u001b[1m20s\u001b[0m 502ms/step - accuracy: 0.9305 - loss: 0.2179 - val_accuracy: 0.4253 - val_loss: 2.0750\n",
            "Epoch 85/100\n",
            "\u001b[1m41/41\u001b[0m \u001b[32m━━━━━━━━━━━━━━━━━━━━\u001b[0m\u001b[37m\u001b[0m \u001b[1m13s\u001b[0m 327ms/step - accuracy: 0.9246 - loss: 0.2352 - val_accuracy: 0.4634 - val_loss: 2.0654\n",
            "Epoch 86/100\n",
            "\u001b[1m41/41\u001b[0m \u001b[32m━━━━━━━━━━━━━━━━━━━━\u001b[0m\u001b[37m\u001b[0m \u001b[1m11s\u001b[0m 273ms/step - accuracy: 0.9078 - loss: 0.2611 - val_accuracy: 0.4268 - val_loss: 1.9376\n",
            "Epoch 87/100\n",
            "\u001b[1m41/41\u001b[0m \u001b[32m━━━━━━━━━━━━━━━━━━━━\u001b[0m\u001b[37m\u001b[0m \u001b[1m41s\u001b[0m 605ms/step - accuracy: 0.9218 - loss: 0.2312 - val_accuracy: 0.4116 - val_loss: 2.1494\n",
            "Epoch 88/100\n",
            "\u001b[1m41/41\u001b[0m \u001b[32m━━━━━━━━━━━━━━━━━━━━\u001b[0m\u001b[37m\u001b[0m \u001b[1m21s\u001b[0m 511ms/step - accuracy: 0.9311 - loss: 0.1975 - val_accuracy: 0.4825 - val_loss: 1.6771\n",
            "Epoch 89/100\n",
            "\u001b[1m41/41\u001b[0m \u001b[32m━━━━━━━━━━━━━━━━━━━━\u001b[0m\u001b[37m\u001b[0m \u001b[1m50s\u001b[0m 309ms/step - accuracy: 0.9306 - loss: 0.1853 - val_accuracy: 0.4352 - val_loss: 2.0161\n",
            "Epoch 90/100\n",
            "\u001b[1m41/41\u001b[0m \u001b[32m━━━━━━━━━━━━━━━━━━━━\u001b[0m\u001b[37m\u001b[0m \u001b[1m11s\u001b[0m 285ms/step - accuracy: 0.9407 - loss: 0.1730 - val_accuracy: 0.4703 - val_loss: 1.6908\n",
            "Epoch 91/100\n",
            "\u001b[1m41/41\u001b[0m \u001b[32m━━━━━━━━━━━━━━━━━━━━\u001b[0m\u001b[37m\u001b[0m \u001b[1m21s\u001b[0m 517ms/step - accuracy: 0.9172 - loss: 0.2141 - val_accuracy: 0.3803 - val_loss: 2.4918\n",
            "Epoch 92/100\n",
            "\u001b[1m41/41\u001b[0m \u001b[32m━━━━━━━━━━━━━━━━━━━━\u001b[0m\u001b[37m\u001b[0m \u001b[1m10s\u001b[0m 247ms/step - accuracy: 0.9198 - loss: 0.2256 - val_accuracy: 0.4436 - val_loss: 1.9444\n",
            "Epoch 93/100\n",
            "\u001b[1m41/41\u001b[0m \u001b[32m━━━━━━━━━━━━━━━━━━━━\u001b[0m\u001b[37m\u001b[0m \u001b[1m13s\u001b[0m 310ms/step - accuracy: 0.9471 - loss: 0.1578 - val_accuracy: 0.4162 - val_loss: 2.1513\n",
            "Epoch 94/100\n",
            "\u001b[1m41/41\u001b[0m \u001b[32m━━━━━━━━━━━━━━━━━━━━\u001b[0m\u001b[37m\u001b[0m \u001b[1m11s\u001b[0m 277ms/step - accuracy: 0.9469 - loss: 0.1704 - val_accuracy: 0.4215 - val_loss: 1.7787\n",
            "Epoch 95/100\n",
            "\u001b[1m41/41\u001b[0m \u001b[32m━━━━━━━━━━━━━━━━━━━━\u001b[0m\u001b[37m\u001b[0m \u001b[1m13s\u001b[0m 313ms/step - accuracy: 0.9070 - loss: 0.2543 - val_accuracy: 0.4078 - val_loss: 1.7506\n",
            "Epoch 96/100\n",
            "\u001b[1m41/41\u001b[0m \u001b[32m━━━━━━━━━━━━━━━━━━━━\u001b[0m\u001b[37m\u001b[0m \u001b[1m11s\u001b[0m 262ms/step - accuracy: 0.9080 - loss: 0.2284 - val_accuracy: 0.3956 - val_loss: 2.3602\n",
            "Epoch 97/100\n",
            "\u001b[1m41/41\u001b[0m \u001b[32m━━━━━━━━━━━━━━━━━━━━\u001b[0m\u001b[37m\u001b[0m \u001b[1m20s\u001b[0m 492ms/step - accuracy: 0.8914 - loss: 0.2991 - val_accuracy: 0.4421 - val_loss: 1.8276\n",
            "Epoch 98/100\n",
            "\u001b[1m41/41\u001b[0m \u001b[32m━━━━━━━━━━━━━━━━━━━━\u001b[0m\u001b[37m\u001b[0m \u001b[1m21s\u001b[0m 519ms/step - accuracy: 0.9379 - loss: 0.1709 - val_accuracy: 0.4588 - val_loss: 1.6749\n",
            "Epoch 99/100\n",
            "\u001b[1m41/41\u001b[0m \u001b[32m━━━━━━━━━━━━━━━━━━━━\u001b[0m\u001b[37m\u001b[0m \u001b[1m20s\u001b[0m 497ms/step - accuracy: 0.9343 - loss: 0.1896 - val_accuracy: 0.4146 - val_loss: 1.6099\n",
            "Epoch 100/100\n",
            "\u001b[1m41/41\u001b[0m \u001b[32m━━━━━━━━━━━━━━━━━━━━\u001b[0m\u001b[37m\u001b[0m \u001b[1m20s\u001b[0m 504ms/step - accuracy: 0.9473 - loss: 0.1472 - val_accuracy: 0.4375 - val_loss: 1.7995\n"
          ]
        }
      ],
      "source": [
        "history = model.fit(\n",
        "    train_data_gen,\n",
        "    steps_per_epoch=total_train // batch_size,\n",
        "    epochs = epochs,\n",
        "    validation_data = test_data_gen,\n",
        "    validation_steps= total_test // batch_size,\n",
        "    # callbacks = [tf.keras.callbacks.EarlyStopping(\n",
        "    #             monitor='val_loss',\n",
        "    #             min_delta=0.01,\n",
        "    #             patience=10)]\n",
        ")"
      ]
    },
    {
      "cell_type": "markdown",
      "id": "BeP0d2ol4vA1",
      "metadata": {
        "id": "BeP0d2ol4vA1"
      },
      "source": [
        "**Step 9** : Evaluating the performance of the model using the test dataset."
      ]
    },
    {
      "cell_type": "code",
      "execution_count": 68,
      "id": "c4283cea",
      "metadata": {
        "id": "c4283cea",
        "outputId": "e71a5a5b-91a9-47b2-96b4-88d7a49e3814",
        "colab": {
          "base_uri": "https://localhost:8080/"
        }
      },
      "outputs": [
        {
          "output_type": "stream",
          "name": "stdout",
          "text": [
            "\u001b[1m75/75\u001b[0m \u001b[32m━━━━━━━━━━━━━━━━━━━━\u001b[0m\u001b[37m\u001b[0m \u001b[1m12s\u001b[0m 163ms/step - accuracy: 0.9848 - loss: 0.0541\n",
            "Test accuracy: 98.36820363998413 Test Loss: 0.05823585018515587 \n"
          ]
        }
      ],
      "source": [
        "test_loss, test_acc = model.evaluate(train_data_gen)\n",
        "print('Test accuracy: {} Test Loss: {} '.format(test_acc*100, test_loss))"
      ]
    },
    {
      "cell_type": "markdown",
      "id": "X4fwRD0zaWEs",
      "metadata": {
        "id": "X4fwRD0zaWEs"
      },
      "source": [
        "1. ``import plotly.graph_objects as goimport plotly.graph_objects as go `` - IT contains a automatically-generated hierarchy of Python classes that represent non-leaf nodes in this figure schema.\n",
        "\n",
        "2. ``fig = go.Figure()`` - is a Python package for creating, manipulation, nad rendering graphocal figures. Graphs are represented by figures, which are data structure.\n",
        "\n",
        "\n",
        "5. ``fig.show()`` - is the pyplot module of the matplotlob library, this function allows all figures to be displayed. It also helps to visualize more easily."
      ]
    },
    {
      "cell_type": "code",
      "execution_count": 69,
      "id": "9e5166b4",
      "metadata": {
        "id": "9e5166b4",
        "outputId": "c1abd59d-935d-4e35-9a36-3c04d5d5faf0",
        "colab": {
          "base_uri": "https://localhost:8080/",
          "height": 542
        }
      },
      "outputs": [
        {
          "output_type": "display_data",
          "data": {
            "text/html": [
              "<html>\n",
              "<head><meta charset=\"utf-8\" /></head>\n",
              "<body>\n",
              "    <div>            <script src=\"https://cdnjs.cloudflare.com/ajax/libs/mathjax/2.7.5/MathJax.js?config=TeX-AMS-MML_SVG\"></script><script type=\"text/javascript\">if (window.MathJax && window.MathJax.Hub && window.MathJax.Hub.Config) {window.MathJax.Hub.Config({SVG: {font: \"STIX-Web\"}});}</script>                <script type=\"text/javascript\">window.PlotlyConfig = {MathJaxConfig: 'local'};</script>\n",
              "        <script charset=\"utf-8\" src=\"https://cdn.plot.ly/plotly-2.35.2.min.js\"></script>                <div id=\"d650cbdd-40bc-48b0-a8a7-3e365ecf872b\" class=\"plotly-graph-div\" style=\"height:525px; width:100%;\"></div>            <script type=\"text/javascript\">                                    window.PLOTLYENV=window.PLOTLYENV || {};                                    if (document.getElementById(\"d650cbdd-40bc-48b0-a8a7-3e365ecf872b\")) {                    Plotly.newPlot(                        \"d650cbdd-40bc-48b0-a8a7-3e365ecf872b\",                        [{\"mode\":\"lines+markers\",\"name\":\"Training accuracy\",\"x\":[0,1,2,3,4,5,6,7,8,9,10,11,12,13,14,15,16,17,18,19,20,21,22,23,24,25,26,27,28,29,30,31,32,33,34,35,36,37,38,39,40,41,42,43,44,45,46,47,48,49,50,51,52,53,54,55,56,57,58,59,60,61,62,63,64,65,66,67,68,69,70,71,72,73,74,75,76,77,78,79,80,81,82,83,84,85,86,87,88,89,90,91,92,93,94,95,96,97,98,99],\"y\":[0.22027438879013062,0.26808905601501465,0.35407066345214844,0.3841911852359772,0.4397865831851959,0.4322820007801056,0.4615975320339203,0.4751838147640228,0.49695122241973877,0.5009276270866394,0.5222734212875366,0.5533088445663452,0.5537634491920471,0.5716911554336548,0.6067588329315186,0.6102941036224365,0.6234756112098694,0.6400741934776306,0.6513056755065918,0.65625,0.662826418876648,0.6663603186607361,0.6905487775802612,0.7087198495864868,0.7089093923568726,0.6626838445663452,0.730182945728302,0.7337662577629089,0.7434715628623962,0.75,0.7519201040267944,0.7509191036224365,0.7644817233085632,0.777365505695343,0.7603686451911926,0.78125,0.7835366129875183,0.8051947951316833,0.8102918863296509,0.779411792755127,0.8064516186714172,0.8161764740943909,0.8064024448394775,0.8033395409584045,0.7949694991111755,0.8089053630828857,0.8460366129875183,0.8218923807144165,0.804147481918335,0.8529411554336548,0.8663594722747803,0.8547794222831726,0.8407012224197388,0.8636363744735718,0.8571428656578064,0.8832720518112183,0.8513719439506531,0.8812615871429443,0.8666158318519592,0.8497217297554016,0.8727133870124817,0.8812615871429443,0.8663594722747803,0.8630514740943909,0.8788110017776489,0.8942486047744751,0.8986175060272217,0.8961396813392639,0.897849440574646,0.90625,0.8971036672592163,0.9035250544548035,0.8971036672592163,0.9063079953193665,0.8940548896789551,0.9025974273681641,0.9001524448394775,0.9035250544548035,0.9108231663703918,0.8951762318611145,0.9153963327407837,0.9192950129508972,0.917682945728302,0.9165120720863342,0.9291158318519592,0.9146567583084106,0.9324116706848145,0.9246323704719543,0.9316436052322388,0.9273896813392639,0.9239631295204163,0.9283088445663452,0.940092146396637,0.9476103186607361,0.8910061120986938,0.9174396991729736,0.9039633870124817,0.9341372847557068,0.9382622241973877,0.948051929473877],\"type\":\"scatter\"},{\"mode\":\"lines+markers\",\"name\":\"Validation accuracy\",\"x\":[0,1,2,3,4,5,6,7,8,9,10,11,12,13,14,15,16,17,18,19,20,21,22,23,24,25,26,27,28,29,30,31,32,33,34,35,36,37,38,39,40,41,42,43,44,45,46,47,48,49,50,51,52,53,54,55,56,57,58,59,60,61,62,63,64,65,66,67,68,69,70,71,72,73,74,75,76,77,78,79,80,81,82,83,84,85,86,87,88,89,90,91,92,93,94,95,96,97,98,99],\"y\":[0.25685974955558777,0.26371949911117554,0.28734755516052246,0.23170731961727142,0.23628048598766327,0.20198170840740204,0.25304877758026123,0.28734755516052246,0.25,0.271341472864151,0.28506097197532654,0.29649388790130615,0.3003048896789551,0.31707316637039185,0.3048780560493469,0.2934451103210449,0.3422256112098694,0.3323170840740204,0.29801830649375916,0.29573169350624084,0.3231707215309143,0.2797256112098694,0.26371949911117554,0.3460365831851959,0.34070122241973877,0.34679877758026123,0.3757621943950653,0.259908527135849,0.4070121943950653,0.34679877758026123,0.3246951103210449,0.36890244483947754,0.36966463923454285,0.42378050088882446,0.39939025044441223,0.36204269528388977,0.40929877758026123,0.3361280560493469,0.37804877758026123,0.416158527135849,0.36890244483947754,0.42225611209869385,0.3833841383457184,0.4054878056049347,0.41920730471611023,0.36128050088882446,0.39939025044441223,0.3833841383457184,0.4047256112098694,0.45198169350624084,0.478658527135849,0.3551829159259796,0.365091472864151,0.45579269528388977,0.3513719439506531,0.4291158616542816,0.38109755516052246,0.41006097197532654,0.38948169350624084,0.5076219439506531,0.4458841383457184,0.44283536076545715,0.3673780560493469,0.4390243887901306,0.38871949911117554,0.4253048896789551,0.4298780560493469,0.3940548896789551,0.4047256112098694,0.47332316637039185,0.42378050088882446,0.416158527135849,0.44131097197532654,0.49390244483947754,0.4809451103210449,0.4397865831851959,0.4481707215309143,0.416158527135849,0.46417683362960815,0.4580792784690857,0.49618902802467346,0.4352134168148041,0.4794207215309143,0.4253048896789551,0.46341463923454285,0.4268292784690857,0.41158536076545715,0.48246949911117554,0.4352134168148041,0.4702743887901306,0.38033536076545715,0.44359755516052246,0.416158527135849,0.42149388790130615,0.4077743887901306,0.3955792784690857,0.44207316637039185,0.458841472864151,0.4146341383457184,0.4375],\"type\":\"scatter\"}],                        {\"template\":{\"data\":{\"histogram2dcontour\":[{\"type\":\"histogram2dcontour\",\"colorbar\":{\"outlinewidth\":0,\"ticks\":\"\"},\"colorscale\":[[0.0,\"#0d0887\"],[0.1111111111111111,\"#46039f\"],[0.2222222222222222,\"#7201a8\"],[0.3333333333333333,\"#9c179e\"],[0.4444444444444444,\"#bd3786\"],[0.5555555555555556,\"#d8576b\"],[0.6666666666666666,\"#ed7953\"],[0.7777777777777778,\"#fb9f3a\"],[0.8888888888888888,\"#fdca26\"],[1.0,\"#f0f921\"]]}],\"choropleth\":[{\"type\":\"choropleth\",\"colorbar\":{\"outlinewidth\":0,\"ticks\":\"\"}}],\"histogram2d\":[{\"type\":\"histogram2d\",\"colorbar\":{\"outlinewidth\":0,\"ticks\":\"\"},\"colorscale\":[[0.0,\"#0d0887\"],[0.1111111111111111,\"#46039f\"],[0.2222222222222222,\"#7201a8\"],[0.3333333333333333,\"#9c179e\"],[0.4444444444444444,\"#bd3786\"],[0.5555555555555556,\"#d8576b\"],[0.6666666666666666,\"#ed7953\"],[0.7777777777777778,\"#fb9f3a\"],[0.8888888888888888,\"#fdca26\"],[1.0,\"#f0f921\"]]}],\"heatmap\":[{\"type\":\"heatmap\",\"colorbar\":{\"outlinewidth\":0,\"ticks\":\"\"},\"colorscale\":[[0.0,\"#0d0887\"],[0.1111111111111111,\"#46039f\"],[0.2222222222222222,\"#7201a8\"],[0.3333333333333333,\"#9c179e\"],[0.4444444444444444,\"#bd3786\"],[0.5555555555555556,\"#d8576b\"],[0.6666666666666666,\"#ed7953\"],[0.7777777777777778,\"#fb9f3a\"],[0.8888888888888888,\"#fdca26\"],[1.0,\"#f0f921\"]]}],\"heatmapgl\":[{\"type\":\"heatmapgl\",\"colorbar\":{\"outlinewidth\":0,\"ticks\":\"\"},\"colorscale\":[[0.0,\"#0d0887\"],[0.1111111111111111,\"#46039f\"],[0.2222222222222222,\"#7201a8\"],[0.3333333333333333,\"#9c179e\"],[0.4444444444444444,\"#bd3786\"],[0.5555555555555556,\"#d8576b\"],[0.6666666666666666,\"#ed7953\"],[0.7777777777777778,\"#fb9f3a\"],[0.8888888888888888,\"#fdca26\"],[1.0,\"#f0f921\"]]}],\"contourcarpet\":[{\"type\":\"contourcarpet\",\"colorbar\":{\"outlinewidth\":0,\"ticks\":\"\"}}],\"contour\":[{\"type\":\"contour\",\"colorbar\":{\"outlinewidth\":0,\"ticks\":\"\"},\"colorscale\":[[0.0,\"#0d0887\"],[0.1111111111111111,\"#46039f\"],[0.2222222222222222,\"#7201a8\"],[0.3333333333333333,\"#9c179e\"],[0.4444444444444444,\"#bd3786\"],[0.5555555555555556,\"#d8576b\"],[0.6666666666666666,\"#ed7953\"],[0.7777777777777778,\"#fb9f3a\"],[0.8888888888888888,\"#fdca26\"],[1.0,\"#f0f921\"]]}],\"surface\":[{\"type\":\"surface\",\"colorbar\":{\"outlinewidth\":0,\"ticks\":\"\"},\"colorscale\":[[0.0,\"#0d0887\"],[0.1111111111111111,\"#46039f\"],[0.2222222222222222,\"#7201a8\"],[0.3333333333333333,\"#9c179e\"],[0.4444444444444444,\"#bd3786\"],[0.5555555555555556,\"#d8576b\"],[0.6666666666666666,\"#ed7953\"],[0.7777777777777778,\"#fb9f3a\"],[0.8888888888888888,\"#fdca26\"],[1.0,\"#f0f921\"]]}],\"mesh3d\":[{\"type\":\"mesh3d\",\"colorbar\":{\"outlinewidth\":0,\"ticks\":\"\"}}],\"scatter\":[{\"fillpattern\":{\"fillmode\":\"overlay\",\"size\":10,\"solidity\":0.2},\"type\":\"scatter\"}],\"parcoords\":[{\"type\":\"parcoords\",\"line\":{\"colorbar\":{\"outlinewidth\":0,\"ticks\":\"\"}}}],\"scatterpolargl\":[{\"type\":\"scatterpolargl\",\"marker\":{\"colorbar\":{\"outlinewidth\":0,\"ticks\":\"\"}}}],\"bar\":[{\"error_x\":{\"color\":\"#2a3f5f\"},\"error_y\":{\"color\":\"#2a3f5f\"},\"marker\":{\"line\":{\"color\":\"#E5ECF6\",\"width\":0.5},\"pattern\":{\"fillmode\":\"overlay\",\"size\":10,\"solidity\":0.2}},\"type\":\"bar\"}],\"scattergeo\":[{\"type\":\"scattergeo\",\"marker\":{\"colorbar\":{\"outlinewidth\":0,\"ticks\":\"\"}}}],\"scatterpolar\":[{\"type\":\"scatterpolar\",\"marker\":{\"colorbar\":{\"outlinewidth\":0,\"ticks\":\"\"}}}],\"histogram\":[{\"marker\":{\"pattern\":{\"fillmode\":\"overlay\",\"size\":10,\"solidity\":0.2}},\"type\":\"histogram\"}],\"scattergl\":[{\"type\":\"scattergl\",\"marker\":{\"colorbar\":{\"outlinewidth\":0,\"ticks\":\"\"}}}],\"scatter3d\":[{\"type\":\"scatter3d\",\"line\":{\"colorbar\":{\"outlinewidth\":0,\"ticks\":\"\"}},\"marker\":{\"colorbar\":{\"outlinewidth\":0,\"ticks\":\"\"}}}],\"scattermapbox\":[{\"type\":\"scattermapbox\",\"marker\":{\"colorbar\":{\"outlinewidth\":0,\"ticks\":\"\"}}}],\"scatterternary\":[{\"type\":\"scatterternary\",\"marker\":{\"colorbar\":{\"outlinewidth\":0,\"ticks\":\"\"}}}],\"scattercarpet\":[{\"type\":\"scattercarpet\",\"marker\":{\"colorbar\":{\"outlinewidth\":0,\"ticks\":\"\"}}}],\"carpet\":[{\"aaxis\":{\"endlinecolor\":\"#2a3f5f\",\"gridcolor\":\"white\",\"linecolor\":\"white\",\"minorgridcolor\":\"white\",\"startlinecolor\":\"#2a3f5f\"},\"baxis\":{\"endlinecolor\":\"#2a3f5f\",\"gridcolor\":\"white\",\"linecolor\":\"white\",\"minorgridcolor\":\"white\",\"startlinecolor\":\"#2a3f5f\"},\"type\":\"carpet\"}],\"table\":[{\"cells\":{\"fill\":{\"color\":\"#EBF0F8\"},\"line\":{\"color\":\"white\"}},\"header\":{\"fill\":{\"color\":\"#C8D4E3\"},\"line\":{\"color\":\"white\"}},\"type\":\"table\"}],\"barpolar\":[{\"marker\":{\"line\":{\"color\":\"#E5ECF6\",\"width\":0.5},\"pattern\":{\"fillmode\":\"overlay\",\"size\":10,\"solidity\":0.2}},\"type\":\"barpolar\"}],\"pie\":[{\"automargin\":true,\"type\":\"pie\"}]},\"layout\":{\"autotypenumbers\":\"strict\",\"colorway\":[\"#636efa\",\"#EF553B\",\"#00cc96\",\"#ab63fa\",\"#FFA15A\",\"#19d3f3\",\"#FF6692\",\"#B6E880\",\"#FF97FF\",\"#FECB52\"],\"font\":{\"color\":\"#2a3f5f\"},\"hovermode\":\"closest\",\"hoverlabel\":{\"align\":\"left\"},\"paper_bgcolor\":\"white\",\"plot_bgcolor\":\"#E5ECF6\",\"polar\":{\"bgcolor\":\"#E5ECF6\",\"angularaxis\":{\"gridcolor\":\"white\",\"linecolor\":\"white\",\"ticks\":\"\"},\"radialaxis\":{\"gridcolor\":\"white\",\"linecolor\":\"white\",\"ticks\":\"\"}},\"ternary\":{\"bgcolor\":\"#E5ECF6\",\"aaxis\":{\"gridcolor\":\"white\",\"linecolor\":\"white\",\"ticks\":\"\"},\"baxis\":{\"gridcolor\":\"white\",\"linecolor\":\"white\",\"ticks\":\"\"},\"caxis\":{\"gridcolor\":\"white\",\"linecolor\":\"white\",\"ticks\":\"\"}},\"coloraxis\":{\"colorbar\":{\"outlinewidth\":0,\"ticks\":\"\"}},\"colorscale\":{\"sequential\":[[0.0,\"#0d0887\"],[0.1111111111111111,\"#46039f\"],[0.2222222222222222,\"#7201a8\"],[0.3333333333333333,\"#9c179e\"],[0.4444444444444444,\"#bd3786\"],[0.5555555555555556,\"#d8576b\"],[0.6666666666666666,\"#ed7953\"],[0.7777777777777778,\"#fb9f3a\"],[0.8888888888888888,\"#fdca26\"],[1.0,\"#f0f921\"]],\"sequentialminus\":[[0.0,\"#0d0887\"],[0.1111111111111111,\"#46039f\"],[0.2222222222222222,\"#7201a8\"],[0.3333333333333333,\"#9c179e\"],[0.4444444444444444,\"#bd3786\"],[0.5555555555555556,\"#d8576b\"],[0.6666666666666666,\"#ed7953\"],[0.7777777777777778,\"#fb9f3a\"],[0.8888888888888888,\"#fdca26\"],[1.0,\"#f0f921\"]],\"diverging\":[[0,\"#8e0152\"],[0.1,\"#c51b7d\"],[0.2,\"#de77ae\"],[0.3,\"#f1b6da\"],[0.4,\"#fde0ef\"],[0.5,\"#f7f7f7\"],[0.6,\"#e6f5d0\"],[0.7,\"#b8e186\"],[0.8,\"#7fbc41\"],[0.9,\"#4d9221\"],[1,\"#276419\"]]},\"xaxis\":{\"gridcolor\":\"white\",\"linecolor\":\"white\",\"ticks\":\"\",\"title\":{\"standoff\":15},\"zerolinecolor\":\"white\",\"automargin\":true,\"zerolinewidth\":2},\"yaxis\":{\"gridcolor\":\"white\",\"linecolor\":\"white\",\"ticks\":\"\",\"title\":{\"standoff\":15},\"zerolinecolor\":\"white\",\"automargin\":true,\"zerolinewidth\":2},\"scene\":{\"xaxis\":{\"backgroundcolor\":\"#E5ECF6\",\"gridcolor\":\"white\",\"linecolor\":\"white\",\"showbackground\":true,\"ticks\":\"\",\"zerolinecolor\":\"white\",\"gridwidth\":2},\"yaxis\":{\"backgroundcolor\":\"#E5ECF6\",\"gridcolor\":\"white\",\"linecolor\":\"white\",\"showbackground\":true,\"ticks\":\"\",\"zerolinecolor\":\"white\",\"gridwidth\":2},\"zaxis\":{\"backgroundcolor\":\"#E5ECF6\",\"gridcolor\":\"white\",\"linecolor\":\"white\",\"showbackground\":true,\"ticks\":\"\",\"zerolinecolor\":\"white\",\"gridwidth\":2}},\"shapedefaults\":{\"line\":{\"color\":\"#2a3f5f\"}},\"annotationdefaults\":{\"arrowcolor\":\"#2a3f5f\",\"arrowhead\":0,\"arrowwidth\":1},\"geo\":{\"bgcolor\":\"white\",\"landcolor\":\"#E5ECF6\",\"subunitcolor\":\"white\",\"showland\":true,\"showlakes\":true,\"lakecolor\":\"white\"},\"title\":{\"x\":0.05},\"mapbox\":{\"style\":\"light\"}}},\"title\":{\"text\":\"Accuracy\"},\"xaxis\":{\"title\":{\"text\":\"Epoch\"}},\"yaxis\":{\"title\":{\"text\":\"Percentage\"}}},                        {\"responsive\": true}                    ).then(function(){\n",
              "                            \n",
              "var gd = document.getElementById('d650cbdd-40bc-48b0-a8a7-3e365ecf872b');\n",
              "var x = new MutationObserver(function (mutations, observer) {{\n",
              "        var display = window.getComputedStyle(gd).display;\n",
              "        if (!display || display === 'none') {{\n",
              "            console.log([gd, 'removed!']);\n",
              "            Plotly.purge(gd);\n",
              "            observer.disconnect();\n",
              "        }}\n",
              "}});\n",
              "\n",
              "// Listen for the removal of the full notebook cells\n",
              "var notebookContainer = gd.closest('#notebook-container');\n",
              "if (notebookContainer) {{\n",
              "    x.observe(notebookContainer, {childList: true});\n",
              "}}\n",
              "\n",
              "// Listen for the clearing of the current output cell\n",
              "var outputEl = gd.closest('.output');\n",
              "if (outputEl) {{\n",
              "    x.observe(outputEl, {childList: true});\n",
              "}}\n",
              "\n",
              "                        })                };                            </script>        </div>\n",
              "</body>\n",
              "</html>"
            ]
          },
          "metadata": {}
        }
      ],
      "source": [
        "import plotly.graph_objects as go\n",
        "fig = go.Figure()\n",
        "\n",
        "fig.add_trace(go.Scatter(x=history.epoch,\n",
        "                         y=history.history['accuracy'],\n",
        "                         mode='lines+markers',\n",
        "                         name='Training accuracy'))\n",
        "fig.add_trace(go.Scatter(x=history.epoch,\n",
        "                         y=history.history['val_accuracy'],\n",
        "                         mode='lines+markers',\n",
        "                         name='Validation accuracy'))\n",
        "fig.update_layout(title='Accuracy',\n",
        "                        xaxis=dict(title='Epoch'),\n",
        "                        yaxis=dict(title='Percentage'))\n",
        "fig.show()"
      ]
    },
    {
      "cell_type": "code",
      "source": [
        "model.save('image_garbage_h3_v3.h5')"
      ],
      "metadata": {
        "colab": {
          "base_uri": "https://localhost:8080/"
        },
        "id": "C-8EOMVpn7LC",
        "outputId": "b26e1f8e-d9a3-4c55-a416-cacb65db862a"
      },
      "id": "C-8EOMVpn7LC",
      "execution_count": 70,
      "outputs": [
        {
          "output_type": "stream",
          "name": "stderr",
          "text": [
            "WARNING:absl:You are saving your model as an HDF5 file via `model.save()` or `keras.saving.save_model(model)`. This file format is considered legacy. We recommend using instead the native Keras format, e.g. `model.save('my_model.keras')` or `keras.saving.save_model(model, 'my_model.keras')`. \n"
          ]
        }
      ]
    },
    {
      "cell_type": "code",
      "source": [
        "# prompt: buatkan convusion matrix untuk validasi hasil dari model dan berikan nilai classification report\n",
        "\n",
        "import numpy as np\n",
        "from sklearn.metrics import classification_report, confusion_matrix\n",
        "import matplotlib.pyplot as plt\n",
        "import seaborn as sns\n",
        "\n",
        "# Assuming you have your test data and predictions\n",
        "# Replace these with your actual test data and model predictions\n",
        "# y_true = np.array([0, 1, 0, 1, 0, 1]) # Example true labels\n",
        "# y_pred = np.array([0, 0, 1, 1, 0, 0]) # Example predicted labels\n",
        "\n",
        "# Get true labels from test data generator\n",
        "y_true = test_data_gen.classes\n",
        "\n",
        "# Predict using your model\n",
        "y_pred = np.argmax(model.predict(test_data_gen), axis=1)\n",
        "\n",
        "# Create confusion matrix\n",
        "cm = confusion_matrix(y_true, y_pred)\n",
        "\n",
        "# Plot confusion matrix\n",
        "plt.figure(figsize=(8, 6))\n",
        "sns.heatmap(cm, annot=True, fmt=\"d\", cmap=\"Blues\",\n",
        "            xticklabels=test_data_gen.class_indices,\n",
        "            yticklabels=test_data_gen.class_indices)\n",
        "plt.xlabel(\"Predicted Labels\")\n",
        "plt.ylabel(\"True Labels\")\n",
        "plt.title(\"Confusion Matrix\")\n",
        "plt.show()\n",
        "\n",
        "# Generate classification report\n",
        "print(classification_report(y_true, y_pred, target_names=test_data_gen.class_indices))\n"
      ],
      "metadata": {
        "colab": {
          "base_uri": "https://localhost:8080/",
          "height": 827
        },
        "id": "Ko0euvakD2DV",
        "outputId": "b921940c-63a2-4e17-9a10-5ac63c70d5a1"
      },
      "id": "Ko0euvakD2DV",
      "execution_count": 71,
      "outputs": [
        {
          "output_type": "stream",
          "name": "stderr",
          "text": [
            "WARNING:tensorflow:5 out of the last 82 calls to <function TensorFlowTrainer.make_predict_function.<locals>.one_step_on_data_distributed at 0x7ea884e0ade0> triggered tf.function retracing. Tracing is expensive and the excessive number of tracings could be due to (1) creating @tf.function repeatedly in a loop, (2) passing tensors with different shapes, (3) passing Python objects instead of tensors. For (1), please define your @tf.function outside of the loop. For (2), @tf.function has reduce_retracing=True option that can avoid unnecessary retracing. For (3), please refer to https://www.tensorflow.org/guide/function#controlling_retracing and https://www.tensorflow.org/api_docs/python/tf/function for  more details.\n"
          ]
        },
        {
          "output_type": "stream",
          "name": "stdout",
          "text": [
            "\u001b[1m75/75\u001b[0m \u001b[32m━━━━━━━━━━━━━━━━━━━━\u001b[0m\u001b[37m\u001b[0m \u001b[1m9s\u001b[0m 116ms/step\n"
          ]
        },
        {
          "output_type": "display_data",
          "data": {
            "text/plain": [
              "<Figure size 800x600 with 2 Axes>"
            ],
            "image/png": "[encoded data removed]"
          },
          "metadata": {}
        },
        {
          "output_type": "stream",
          "name": "stdout",
          "text": [
            "              precision    recall  f1-score   support\n",
            "\n",
            "   cardboard       0.21      0.04      0.06       403\n",
            "       glass       0.16      0.08      0.11       501\n",
            "       metal       0.16      0.08      0.10       410\n",
            "       paper       0.26      0.51      0.34       594\n",
            "     plastic       0.20      0.30      0.24       482\n",
            "\n",
            "    accuracy                           0.22      2390\n",
            "   macro avg       0.20      0.20      0.17      2390\n",
            "weighted avg       0.20      0.22      0.18      2390\n",
            "\n"
          ]
        }
      ]
    },
    {
      "cell_type": "code",
      "execution_count": 72,
      "id": "40e59cf8",
      "metadata": {
        "id": "40e59cf8"
      },
      "outputs": [],
      "source": [
        "from skimage.transform import resize"
      ]
    },
    {
      "cell_type": "markdown",
      "id": "4974cde7",
      "metadata": {
        "id": "4974cde7"
      },
      "source": [
        "## RANDOM IMAGES"
      ]
    },
    {
      "cell_type": "markdown",
      "id": "99171f66",
      "metadata": {
        "id": "99171f66"
      },
      "source": [
        "---\n",
        "### IMAGE 1\n",
        "\n",
        "---"
      ]
    },
    {
      "cell_type": "code",
      "execution_count": 74,
      "id": "df2f05e6",
      "metadata": {
        "colab": {
          "base_uri": "https://localhost:8080/",
          "height": 435
        },
        "id": "df2f05e6",
        "outputId": "cdd57e6a-368b-4de7-b46c-5e03c87bf382"
      },
      "outputs": [
        {
          "output_type": "display_data",
          "data": {
            "text/plain": [
              "<Figure size 640x480 with 1 Axes>"
            ],
            "image/png": "[encoded data removed]"
          },
          "metadata": {}
        }
      ],
      "source": [
        "image = plt.imread(\"kardus-bekas-2.jpg\")\n",
        "image_resized = resize(image, (32,32))\n",
        "img = plt.imshow(image)"
      ]
    },
    {
      "cell_type": "code",
      "execution_count": 75,
      "id": "527e8bd0",
      "metadata": {
        "id": "527e8bd0",
        "colab": {
          "base_uri": "https://localhost:8080/"
        },
        "outputId": "6f06322f-deb7-4927-e82e-60e020462131"
      },
      "outputs": [
        {
          "output_type": "stream",
          "name": "stdout",
          "text": [
            "\u001b[1m1/1\u001b[0m \u001b[32m━━━━━━━━━━━━━━━━━━━━\u001b[0m\u001b[37m\u001b[0m \u001b[1m0s\u001b[0m 151ms/step\n"
          ]
        }
      ],
      "source": [
        "probabilities=model.predict(np.array([image_resized]))"
      ]
    },
    {
      "cell_type": "code",
      "execution_count": 76,
      "id": "96738586",
      "metadata": {
        "id": "96738586"
      },
      "outputs": [],
      "source": [
        "number_to_class = ['cardboard',\\\n",
        "                   'glass',\\\n",
        "                   'metal',\\\n",
        "                   'plastic']"
      ]
    },
    {
      "cell_type": "code",
      "source": [
        "index = np.argsort(probabilities[0,:])\n",
        "# Ensure index is within the range of number_to_class\n",
        "for i in range(min(len(index), len(number_to_class))):\n",
        "    class_index = index[len(index) - 1 - i]  # Get index in reverse order (highest probability first)\n",
        "    if class_index < len(number_to_class):  # Check if index is valid for number_to_class\n",
        "        print(f\"{(i + 1)} most likely class: {number_to_class[class_index]} -- Probability {probabilities[0, class_index]}\")\n",
        "    else:\n",
        "        print(f\"{(i + 1)} most likely class index ({class_index}) is out of range for provided class labels\")"
      ],
      "metadata": {
        "colab": {
          "base_uri": "https://localhost:8080/"
        },
        "id": "CL2XX59to_5g",
        "outputId": "711d6089-3127-48cc-8127-82a31bdc0a10"
      },
      "id": "CL2XX59to_5g",
      "execution_count": 77,
      "outputs": [
        {
          "output_type": "stream",
          "name": "stdout",
          "text": [
            "1 most likely class: cardboard -- Probability 0.8192482590675354\n",
            "2 most likely class: plastic -- Probability 0.10586459934711456\n",
            "3 most likely class: glass -- Probability 0.040464796125888824\n",
            "4 most likely class index (4) is out of range for provided class labels\n"
          ]
        }
      ]
    },
    {
      "cell_type": "code",
      "execution_count": 79,
      "id": "82c20da6",
      "metadata": {
        "id": "82c20da6",
        "colab": {
          "base_uri": "https://localhost:8080/"
        },
        "outputId": "e3f3bb12-ae90-4a1f-fcbc-9f17a3827a3b"
      },
      "outputs": [
        {
          "output_type": "stream",
          "name": "stdout",
          "text": [
            "Mostly likely class: plastic -- Probability 0.1058646\n",
            "Second most likely class: glass -- Probability 0.040464796\n",
            "Fourth most likely class: metal -- Probability 0.014656799\n"
          ]
        }
      ],
      "source": [
        "index = np.argsort(probabilities[0,:])\n",
        "print(\"Mostly likely class:\", number_to_class[index[3]], \"-- Probability\", \\\n",
        "      probabilities[0,index[3]]) # Accessing index 3 instead of 2\n",
        "print(\"Second most likely class:\", number_to_class[index[2]], \"-- Probability\", \\\n",
        "      probabilities[0,index[2]]) # Accessing index 2 instead of 1\n",
        "\n",
        "print(\"Fourth most likely class:\", number_to_class[index[0]], \"-- Probability\", \\\n",
        "      probabilities[0,index[0]]) # Accessing index 0"
      ]
    },
    {
      "cell_type": "markdown",
      "id": "8e96cf52",
      "metadata": {
        "id": "8e96cf52"
      },
      "source": [
        "---\n",
        "### IMAGE 2\n",
        "\n",
        "---"
      ]
    },
    {
      "cell_type": "code",
      "execution_count": null,
      "id": "b2150ca4",
      "metadata": {
        "id": "b2150ca4"
      },
      "outputs": [],
      "source": [
        "image = plt.imread(\"Garbage/cardboard/cardboard101.jpg\")\n",
        "image_resized = resize(image, (32,32))\n",
        "img = plt.imshow(image)"
      ]
    },
    {
      "cell_type": "code",
      "execution_count": null,
      "id": "d86084bc",
      "metadata": {
        "id": "d86084bc"
      },
      "outputs": [],
      "source": [
        "probabilities=model.predict(np.array([image_resized]))"
      ]
    },
    {
      "cell_type": "code",
      "execution_count": null,
      "id": "3dfbb248",
      "metadata": {
        "id": "3dfbb248"
      },
      "outputs": [],
      "source": [
        "number_to_class = ['cardboard',\\\n",
        "                   'glass',\\\n",
        "                   'metal',]"
      ]
    },
    {
      "cell_type": "code",
      "execution_count": null,
      "id": "63569be7",
      "metadata": {
        "id": "63569be7"
      },
      "outputs": [],
      "source": [
        "index = np.argsort(probabilities[0,:])\n",
        "print(\"Mostly likely class:\", number_to_class[index[2]], \"-- Probability\", \\\n",
        "      probabilities[0,index[2]])\n",
        "print(\"Second most likely class:\", number_to_class[index[1]], \"-- Probability\", \\\n",
        "      probabilities[0,index[1]])\n",
        "print(\"Third most likely class:\", number_to_class[index[0]], \"-- Probability\", \\\n",
        "      probabilities[0,index[0]])"
      ]
    },
    {
      "cell_type": "markdown",
      "id": "40df84df",
      "metadata": {
        "id": "40df84df"
      },
      "source": [
        "---\n",
        "### IMAGE 3\n",
        "\n",
        "---"
      ]
    },
    {
      "cell_type": "code",
      "execution_count": null,
      "id": "81427866",
      "metadata": {
        "id": "81427866"
      },
      "outputs": [],
      "source": [
        "image = plt.imread(\"Garbage/metal/metal99.jpg\")\n",
        "image_resized = resize(image, (32,32))\n",
        "img = plt.imshow(image)"
      ]
    },
    {
      "cell_type": "code",
      "execution_count": null,
      "id": "af95d27c",
      "metadata": {
        "id": "af95d27c"
      },
      "outputs": [],
      "source": [
        "probabilities=model.predict(np.array([image_resized]))"
      ]
    },
    {
      "cell_type": "code",
      "execution_count": null,
      "id": "49df7796",
      "metadata": {
        "id": "49df7796"
      },
      "outputs": [],
      "source": [
        "number_to_class = ['cardboard',\\\n",
        "                   'glass',\\\n",
        "                   'metal',]"
      ]
    },
    {
      "cell_type": "code",
      "execution_count": null,
      "id": "7648ffdd",
      "metadata": {
        "id": "7648ffdd"
      },
      "outputs": [],
      "source": [
        "index = np.argsort(probabilities[0,:])\n",
        "print(\"Mostly likely class:\", number_to_class[index[2]], \"-- Probability\", \\\n",
        "      probabilities[0,index[2]])\n",
        "print(\"Second most likely class:\", number_to_class[index[1]], \"-- Probability\", \\\n",
        "      probabilities[0,index[1]])\n",
        "print(\"Third most likely class:\", number_to_class[index[0]], \"-- Probability\", \\\n",
        "      probabilities[0,index[0]])"
      ]
    },
    {
      "cell_type": "markdown",
      "id": "86a10061",
      "metadata": {
        "id": "86a10061"
      },
      "source": [
        "---\n",
        "### IMAGE 4\n",
        "\n",
        "---"
      ]
    },
    {
      "cell_type": "code",
      "execution_count": null,
      "id": "22a1d9d8",
      "metadata": {
        "id": "22a1d9d8"
      },
      "outputs": [],
      "source": [
        "image = plt.imread(\"Garbage/metal/metal90.jpg\")\n",
        "image_resized = resize(image, (32,32))\n",
        "img = plt.imshow(image)"
      ]
    },
    {
      "cell_type": "code",
      "execution_count": null,
      "id": "cb1ad6d8",
      "metadata": {
        "id": "cb1ad6d8"
      },
      "outputs": [],
      "source": [
        "probabilities=model.predict(np.array([image_resized]))"
      ]
    },
    {
      "cell_type": "code",
      "execution_count": null,
      "id": "bb7a6248",
      "metadata": {
        "id": "bb7a6248"
      },
      "outputs": [],
      "source": [
        "number_to_class = ['cardboard',\\\n",
        "                   'glass',\\\n",
        "                   'metal',]"
      ]
    },
    {
      "cell_type": "code",
      "execution_count": null,
      "id": "91e8388f",
      "metadata": {
        "id": "91e8388f"
      },
      "outputs": [],
      "source": [
        "index = np.argsort(probabilities[0,:])\n",
        "print(\"Mostly likely class:\", number_to_class[index[2]], \"-- Probability\", \\\n",
        "      probabilities[0,index[2]])\n",
        "print(\"Second most likely class:\", number_to_class[index[1]], \"-- Probability\", \\\n",
        "      probabilities[0,index[1]])\n",
        "print(\"Third most likely class:\", number_to_class[index[0]], \"-- Probability\", \\\n",
        "      probabilities[0,index[0]])"
      ]
    },
    {
      "cell_type": "markdown",
      "id": "a3b4c06e",
      "metadata": {
        "id": "a3b4c06e"
      },
      "source": [
        "---\n",
        "### IMAGE 5\n",
        "\n",
        "---"
      ]
    },
    {
      "cell_type": "code",
      "execution_count": 36,
      "id": "49191471",
      "metadata": {
        "id": "49191471",
        "colab": {
          "base_uri": "https://localhost:8080/",
          "height": 176
        },
        "outputId": "3c960897-e7f3-4766-886a-5d2c7c88c261"
      },
      "outputs": [
        {
          "output_type": "error",
          "ename": "NameError",
          "evalue": "name 'resize' is not defined",
          "traceback": [
            "\u001b[0;31m---------------------------------------------------------------------------\u001b[0m",
            "\u001b[0;31mNameError\u001b[0m                                 Traceback (most recent call last)",
            "\u001b[0;32m<ipython-input-36-2f85a8fb7bae>\u001b[0m in \u001b[0;36m<cell line: 0>\u001b[0;34m()\u001b[0m\n\u001b[1;32m      1\u001b[0m \u001b[0mimage\u001b[0m \u001b[0;34m=\u001b[0m \u001b[0mplt\u001b[0m\u001b[0;34m.\u001b[0m\u001b[0mimread\u001b[0m\u001b[0;34m(\u001b[0m\u001b[0;34m\"/content/drive/MyDrive/garbage2/original_images/cardboard/cardboard_147.jpg\"\u001b[0m\u001b[0;34m)\u001b[0m\u001b[0;34m\u001b[0m\u001b[0;34m\u001b[0m\u001b[0m\n\u001b[0;32m----> 2\u001b[0;31m \u001b[0mimage_resized\u001b[0m \u001b[0;34m=\u001b[0m \u001b[0mresize\u001b[0m\u001b[0;34m(\u001b[0m\u001b[0mimage\u001b[0m\u001b[0;34m,\u001b[0m \u001b[0;34m(\u001b[0m\u001b[0;36m32\u001b[0m\u001b[0;34m,\u001b[0m\u001b[0;36m32\u001b[0m\u001b[0;34m)\u001b[0m\u001b[0;34m)\u001b[0m\u001b[0;34m\u001b[0m\u001b[0;34m\u001b[0m\u001b[0m\n\u001b[0m\u001b[1;32m      3\u001b[0m \u001b[0mimg\u001b[0m \u001b[0;34m=\u001b[0m \u001b[0mplt\u001b[0m\u001b[0;34m.\u001b[0m\u001b[0mimshow\u001b[0m\u001b[0;34m(\u001b[0m\u001b[0mimage\u001b[0m\u001b[0;34m)\u001b[0m\u001b[0;34m\u001b[0m\u001b[0;34m\u001b[0m\u001b[0m\n",
            "\u001b[0;31mNameError\u001b[0m: name 'resize' is not defined"
          ]
        }
      ],
      "source": [
        "image = plt.imread(\"/content/drive/MyDrive/garbage2/original_images/cardboard/cardboard_147.jpg\")\n",
        "image_resized = resize(image, (32,32))\n",
        "img = plt.imshow(image)"
      ]
    },
    {
      "cell_type": "code",
      "execution_count": null,
      "id": "8ce5ebe6",
      "metadata": {
        "id": "8ce5ebe6",
        "colab": {
          "base_uri": "https://localhost:8080/"
        },
        "outputId": "368837bc-6676-4ca9-a77b-0e67d96f34a7"
      },
      "outputs": [
        {
          "output_type": "stream",
          "name": "stdout",
          "text": [
            "\u001b[1m1/1\u001b[0m \u001b[32m━━━━━━━━━━━━━━━━━━━━\u001b[0m\u001b[37m\u001b[0m \u001b[1m0s\u001b[0m 48ms/step\n"
          ]
        }
      ],
      "source": [
        "probabilities=model.predict(np.array([image_resized]))"
      ]
    },
    {
      "cell_type": "code",
      "execution_count": null,
      "id": "31cc3567",
      "metadata": {
        "id": "31cc3567"
      },
      "outputs": [],
      "source": [
        "number_to_class = ['cardboard',\\\n",
        "                   'glass',\\\n",
        "                   'metal',]"
      ]
    },
    {
      "cell_type": "code",
      "source": [
        "index = np.argsort(probabilities[0,:])\n",
        "# Ensure index is within the range of number_to_class\n",
        "for i in range(min(len(index), len(number_to_class))):\n",
        "    class_index = index[len(index) - 1 - i]  # Get index in reverse order (highest probability first)\n",
        "    if class_index < len(number_to_class):  # Check if index is valid for number_to_class\n",
        "        print(f\"{(i + 1)} most likely class: {number_to_class[class_index]} -- Probability {probabilities[0, class_index]}\")\n",
        "    else:\n",
        "        print(f\"{(i + 1)} most likely class index ({class_index}) is out of range for provided class labels\")"
      ],
      "metadata": {
        "colab": {
          "base_uri": "https://localhost:8080/"
        },
        "id": "cLiVbapKp3bA",
        "outputId": "aa7dc7fa-637d-4843-a614-b60fa20c4ec7"
      },
      "id": "cLiVbapKp3bA",
      "execution_count": null,
      "outputs": [
        {
          "output_type": "stream",
          "name": "stdout",
          "text": [
            "1 most likely class: cardboard -- Probability 0.8962442874908447\n",
            "2 most likely class: glass -- Probability 0.05724571645259857\n",
            "3 most likely class index (4) is out of range for provided class labels\n"
          ]
        }
      ]
    },
    {
      "cell_type": "code",
      "execution_count": null,
      "id": "4ae6ea64",
      "metadata": {
        "id": "4ae6ea64",
        "colab": {
          "base_uri": "https://localhost:8080/",
          "height": 211
        },
        "outputId": "09f0a1ec-9897-4195-c438-cf57598bfc2f"
      },
      "outputs": [
        {
          "output_type": "error",
          "ename": "IndexError",
          "evalue": "list index out of range",
          "traceback": [
            "\u001b[0;31m---------------------------------------------------------------------------\u001b[0m",
            "\u001b[0;31mIndexError\u001b[0m                                Traceback (most recent call last)",
            "\u001b[0;32m<ipython-input-83-d46734457f10>\u001b[0m in \u001b[0;36m<cell line: 0>\u001b[0;34m()\u001b[0m\n\u001b[1;32m      1\u001b[0m \u001b[0mindex\u001b[0m \u001b[0;34m=\u001b[0m \u001b[0mnp\u001b[0m\u001b[0;34m.\u001b[0m\u001b[0margsort\u001b[0m\u001b[0;34m(\u001b[0m\u001b[0mprobabilities\u001b[0m\u001b[0;34m[\u001b[0m\u001b[0;36m0\u001b[0m\u001b[0;34m,\u001b[0m\u001b[0;34m:\u001b[0m\u001b[0;34m]\u001b[0m\u001b[0;34m)\u001b[0m\u001b[0;34m\u001b[0m\u001b[0;34m\u001b[0m\u001b[0m\n\u001b[0;32m----> 2\u001b[0;31m print(\"Mostly likely class:\", number_to_class[index[2]], \"-- Probability\", \\\n\u001b[0m\u001b[1;32m      3\u001b[0m       probabilities[0,index[2]])\n\u001b[1;32m      4\u001b[0m print(\"Second most likely class:\", number_to_class[index[1]], \"-- Probability\", \\\n\u001b[1;32m      5\u001b[0m       probabilities[0,index[1]])\n",
            "\u001b[0;31mIndexError\u001b[0m: list index out of range"
          ]
        }
      ],
      "source": [
        "index = np.argsort(probabilities[0,:])\n",
        "print(\"Mostly likely class:\", number_to_class[index[2]], \"-- Probability\", \\\n",
        "      probabilities[0,index[2]])\n",
        "print(\"Second most likely class:\", number_to_class[index[1]], \"-- Probability\", \\\n",
        "      probabilities[0,index[1]])\n",
        "print(\"Third most likely class:\", number_to_class[index[0]], \"-- Probability\", \\\n",
        "      probabilities[0,index[0]])"
      ]
    },
    {
      "cell_type": "code",
      "execution_count": null,
      "id": "7ab77a23",
      "metadata": {
        "id": "7ab77a23"
      },
      "outputs": [],
      "source": []
    },
    {
      "cell_type": "code",
      "execution_count": null,
      "id": "2dd2af32",
      "metadata": {
        "id": "2dd2af32"
      },
      "outputs": [],
      "source": []
    },
    {
      "cell_type": "markdown",
      "id": "gwoKfcxLcvac",
      "metadata": {
        "id": "gwoKfcxLcvac"
      },
      "source": [
        "\n",
        "\n",
        "> Member's Contribution:\n",
        "\n",
        "*   Marquez, Jennifer C.   - *Coding, Documentation, Images Collection*\n",
        "*   MArtinez, Rikki Mae M. - *Coding, Documentation, Images Collection*\n",
        "*   Rario, Marianne C.     - *Coding, Documentation, Images Collection*\n",
        "\n",
        "\n",
        "\n",
        "\n"
      ]
    },
    {
      "cell_type": "code",
      "source": [
        "# prompt: buatkan kode untuk testing prediksi dari model yang sudah saya latih\n",
        "# model yg di export image_garbage_h3.h5\n",
        "\n",
        "import tensorflow as tf\n",
        "from tensorflow import keras\n",
        "from tensorflow.keras.models import load_model\n",
        "from skimage.transform import resize\n",
        "import matplotlib.pyplot as plt\n",
        "import numpy as np\n",
        "\n",
        "# Load the trained model\n",
        "model = load_model('image_garbage_h3_v3.h5')\n",
        "\n",
        "def predict_image(image_path):\n",
        "    \"\"\"Predicts the class of an image using the loaded model.\n",
        "\n",
        "    Args:\n",
        "        image_path: The path to the image file.\n",
        "\n",
        "    Returns:\n",
        "        A dictionary containing the predicted class and probabilities.\n",
        "    \"\"\"\n",
        "    try:\n",
        "        image = plt.imread(image_path)\n",
        "        image_resized = resize(image, (32, 32))\n",
        "        probabilities = model.predict(np.array([image_resized]))\n",
        "\n",
        "        # Assuming your model predicts probabilities for 6 classes\n",
        "        number_to_class = ['cardboard', 'glass', 'metal', 'paper', 'plastic', 'trash']\n",
        "\n",
        "        index = np.argsort(probabilities[0,:])\n",
        "        predictions = {}\n",
        "\n",
        "        for i in range(len(number_to_class)):\n",
        "            class_index = index[len(index) - 1 - i]\n",
        "            predictions[number_to_class[class_index]] = probabilities[0, class_index]\n",
        "\n",
        "        return predictions\n",
        "\n",
        "    except Exception as e:\n",
        "        print(f\"Error processing image: {e}\")\n",
        "        return None\n",
        "\n",
        "\n",
        "# Example usage:\n",
        "image_paths = [\n",
        "    \"kardus-bekas-2.jpg\",\n",
        "    \"kaleng-besi2.jpg\",# Replace with actual image paths\n",
        "]\n",
        "\n",
        "for image_path in image_paths:\n",
        "    predictions = predict_image(image_path)\n",
        "    if predictions:\n",
        "      print(f\"Predictions for {image_path}:\")\n",
        "      for class_name, probability in predictions.items():\n",
        "          print(f\"  {class_name}: {probability}\")\n",
        "      print(\"---\")\n"
      ],
      "metadata": {
        "colab": {
          "base_uri": "https://localhost:8080/"
        },
        "id": "v7DZxq-aqI72",
        "outputId": "5608cb1d-08e2-4c48-f4ae-f2246ef91a2c"
      },
      "id": "v7DZxq-aqI72",
      "execution_count": 81,
      "outputs": [
        {
          "output_type": "stream",
          "name": "stderr",
          "text": [
            "WARNING:absl:Compiled the loaded model, but the compiled metrics have yet to be built. `model.compile_metrics` will be empty until you train or evaluate the model.\n",
            "WARNING:tensorflow:5 out of the last 78 calls to <function TensorFlowTrainer.make_predict_function.<locals>.one_step_on_data_distributed at 0x7ea878ce96c0> triggered tf.function retracing. Tracing is expensive and the excessive number of tracings could be due to (1) creating @tf.function repeatedly in a loop, (2) passing tensors with different shapes, (3) passing Python objects instead of tensors. For (1), please define your @tf.function outside of the loop. For (2), @tf.function has reduce_retracing=True option that can avoid unnecessary retracing. For (3), please refer to https://www.tensorflow.org/guide/function#controlling_retracing and https://www.tensorflow.org/api_docs/python/tf/function for  more details.\n"
          ]
        },
        {
          "output_type": "stream",
          "name": "stdout",
          "text": [
            "\u001b[1m1/1\u001b[0m \u001b[32m━━━━━━━━━━━━━━━━━━━━\u001b[0m\u001b[37m\u001b[0m \u001b[1m0s\u001b[0m 140ms/step\n",
            "Predictions for kardus-bekas-2.jpg:\n",
            "  cardboard: 0.8192482590675354\n",
            "  paper: 0.10586459934711456\n",
            "  glass: 0.040464796125888824\n",
            "  plastic: 0.019765537232160568\n",
            "  metal: 0.014656798914074898\n",
            "---\n",
            "\u001b[1m1/1\u001b[0m \u001b[32m━━━━━━━━━━━━━━━━━━━━\u001b[0m\u001b[37m\u001b[0m \u001b[1m0s\u001b[0m 39ms/step\n",
            "Predictions for kaleng-besi2.jpg:\n",
            "  plastic: 0.402943879365921\n",
            "  cardboard: 0.3664175271987915\n",
            "  glass: 0.09719929844141006\n",
            "  paper: 0.07144276797771454\n",
            "  metal: 0.06199656054377556\n",
            "---\n"
          ]
        }
      ]
    }
  ],
  "metadata": {
    "colab": {
      "collapsed_sections": [
        "99171f66",
        "8e96cf52",
        "40df84df",
        "86a10061",
        "a3b4c06e"
      ],
      "provenance": [],
      "include_colab_link": true
    },
    "kernelspec": {
      "display_name": "Python 3 (ipykernel)",
      "language": "python",
      "name": "python3"
    },
    "language_info": {
      "codemirror_mode": {
        "name": "ipython",
        "version": 3
      },
      "file_extension": ".py",
      "mimetype": "text/x-python",
      "name": "python",
      "nbconvert_exporter": "python",
      "pygments_lexer": "ipython3",
      "version": "3.10.7"
    }
  },
  "nbformat": 4,
  "nbformat_minor": 5
}